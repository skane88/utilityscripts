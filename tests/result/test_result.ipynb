{
 "cells": [
  {
   "cell_type": "markdown",
   "id": "d37f7825ce73e7f",
   "metadata": {},
   "source": [
    "# Test `Result` Objects\n",
    "\n",
    "Notebook for testing `Variable` and `Result` objects."
   ]
  },
  {
   "cell_type": "code",
   "execution_count": 1,
   "id": "initial_id",
   "metadata": {
    "ExecuteTime": {
     "end_time": "2025-07-13T23:25:43.879985Z",
     "start_time": "2025-07-13T23:25:43.837447Z"
    },
    "collapsed": true
   },
   "outputs": [
    {
     "data": {
      "text/latex": "$\\displaystyle \\text{a} = \\text{I was here}$",
      "text/plain": [
       "<IPython.core.display.Math object>"
      ]
     },
     "execution_count": 1,
     "metadata": {},
     "output_type": "execute_result"
    }
   ],
   "source": [
    "from IPython.display import Math\n",
    "\n",
    "from utilityscripts.result import Variable\n",
    "\n",
    "v = Variable(\"I was here\", symbol=\"a\")\n",
    "\n",
    "Math(v.latex_string)"
   ]
  },
  {
   "cell_type": "code",
   "execution_count": 2,
   "id": "a588de168ec12fc3",
   "metadata": {
    "ExecuteTime": {
     "end_time": "2025-07-13T23:25:44.229462Z",
     "start_time": "2025-07-13T23:25:44.222739Z"
    }
   },
   "outputs": [
    {
     "data": {
      "text/plain": [
       "'$\\\\text{a} = \\\\text{I was here}$'"
      ]
     },
     "execution_count": 2,
     "metadata": {},
     "output_type": "execute_result"
    }
   ],
   "source": [
    "v.latex_string"
   ]
  },
  {
   "cell_type": "code",
   "execution_count": 3,
   "id": "4cfb0019a89a17",
   "metadata": {
    "ExecuteTime": {
     "end_time": "2025-07-13T23:25:44.249648Z",
     "start_time": "2025-07-13T23:25:44.243366Z"
    }
   },
   "outputs": [
    {
     "data": {
      "text/plain": [
       "'a=I was here'"
      ]
     },
     "execution_count": 3,
     "metadata": {},
     "output_type": "execute_result"
    }
   ],
   "source": [
    "str(v)"
   ]
  },
  {
   "cell_type": "markdown",
   "id": "206c2596cea9c07e",
   "metadata": {},
   "source": "Now test if the object correctly uses the `_repr_mimebundle_` method to display output:"
  },
  {
   "cell_type": "code",
   "execution_count": 4,
   "id": "2a546b12224a8080",
   "metadata": {
    "ExecuteTime": {
     "end_time": "2025-07-13T23:25:44.277288Z",
     "start_time": "2025-07-13T23:25:44.271180Z"
    }
   },
   "outputs": [
    {
     "data": {
      "text/latex": "$\\text{a} = \\text{I was here}$",
      "text/plain": [
       "a=I was here"
      ]
     },
     "execution_count": 4,
     "metadata": {},
     "output_type": "execute_result"
    }
   ],
   "source": [
    "v"
   ]
  },
  {
   "cell_type": "markdown",
   "id": "92653cf7f715e019",
   "metadata": {},
   "source": "# Test Numbers"
  },
  {
   "cell_type": "code",
   "execution_count": 5,
   "id": "516ba1c044a4ed1",
   "metadata": {
    "ExecuteTime": {
     "end_time": "2025-07-13T23:25:44.314204Z",
     "start_time": "2025-07-13T23:25:44.305226Z"
    }
   },
   "outputs": [
    {
     "data": {
      "text/latex": "$\\text{b} = 2.123$",
      "text/plain": [
       "b=2.123"
      ]
     },
     "execution_count": 5,
     "metadata": {},
     "output_type": "execute_result"
    }
   ],
   "source": [
    "b = Variable(2.123, symbol=\"b\")\n",
    "b"
   ]
  },
  {
   "cell_type": "code",
   "execution_count": 6,
   "id": "e8c3768dd1d1379e",
   "metadata": {
    "ExecuteTime": {
     "end_time": "2025-07-13T23:25:44.347941Z",
     "start_time": "2025-07-13T23:25:44.343051Z"
    }
   },
   "outputs": [
    {
     "name": "stdout",
     "output_type": "stream",
     "text": [
      "b=2.123\n"
     ]
    }
   ],
   "source": [
    "print(str(b))"
   ]
  },
  {
   "cell_type": "code",
   "execution_count": 7,
   "id": "64ac561f2770f54d",
   "metadata": {
    "ExecuteTime": {
     "end_time": "2025-07-13T23:25:44.432061Z",
     "start_time": "2025-07-13T23:25:44.424674Z"
    }
   },
   "outputs": [
    {
     "data": {
      "text/latex": "$\\text{c} = 2$",
      "text/plain": [
       "c=2"
      ]
     },
     "execution_count": 7,
     "metadata": {},
     "output_type": "execute_result"
    }
   ],
   "source": [
    "c = Variable(2, symbol=\"c\")\n",
    "c"
   ]
  },
  {
   "cell_type": "code",
   "execution_count": 8,
   "id": "fd418f5244b2bb6f",
   "metadata": {
    "ExecuteTime": {
     "end_time": "2025-07-13T23:25:44.471758Z",
     "start_time": "2025-07-13T23:25:44.465760Z"
    }
   },
   "outputs": [
    {
     "name": "stdout",
     "output_type": "stream",
     "text": [
      "c=2\n"
     ]
    }
   ],
   "source": [
    "print(str(c))"
   ]
  },
  {
   "cell_type": "code",
   "execution_count": 9,
   "id": "58d24ab3dcc3f76",
   "metadata": {
    "ExecuteTime": {
     "end_time": "2025-07-13T23:25:44.550790Z",
     "start_time": "2025-07-13T23:25:44.544294Z"
    }
   },
   "outputs": [
    {
     "data": {
      "text/latex": "$\\text{d} = 3.1459 \\text{m}$",
      "text/plain": [
       "d=3.1459 m"
      ]
     },
     "execution_count": 9,
     "metadata": {},
     "output_type": "execute_result"
    }
   ],
   "source": [
    "d = Variable(3.1459, symbol=\"d\", units=\"m\")\n",
    "d"
   ]
  },
  {
   "cell_type": "code",
   "execution_count": 10,
   "id": "937682de171000b5",
   "metadata": {
    "ExecuteTime": {
     "end_time": "2025-07-13T23:25:44.588850Z",
     "start_time": "2025-07-13T23:25:44.583794Z"
    }
   },
   "outputs": [
    {
     "name": "stdout",
     "output_type": "stream",
     "text": [
      "d=3.1459 m\n"
     ]
    }
   ],
   "source": [
    "print(str(d))"
   ]
  },
  {
   "cell_type": "code",
   "execution_count": 11,
   "id": "59c581b652379987",
   "metadata": {
    "ExecuteTime": {
     "end_time": "2025-07-13T23:25:44.621632Z",
     "start_time": "2025-07-13T23:25:44.614390Z"
    }
   },
   "outputs": [
    {
     "data": {
      "text/latex": "$\\text{e} = 3.142 \\times 10^{0} \\text{rad}$",
      "text/plain": [
       "e=3.142e+00 rad"
      ]
     },
     "execution_count": 11,
     "metadata": {},
     "output_type": "execute_result"
    }
   ],
   "source": [
    "from math import pi\n",
    "\n",
    "e = Variable(pi, symbol=\"e\", units=\"rad\", fmt_string=\".3e\")\n",
    "e"
   ]
  },
  {
   "cell_type": "code",
   "execution_count": 12,
   "id": "1d3bfa67bb3b7943",
   "metadata": {
    "ExecuteTime": {
     "end_time": "2025-07-13T23:25:44.666014Z",
     "start_time": "2025-07-13T23:25:44.661145Z"
    }
   },
   "outputs": [
    {
     "name": "stdout",
     "output_type": "stream",
     "text": [
      "e=3.142e+00 rad\n"
     ]
    }
   ],
   "source": [
    "print(str(e))"
   ]
  },
  {
   "cell_type": "markdown",
   "id": "4f1ce9297bf35b63",
   "metadata": {},
   "source": [
    "# Test Compound Datatypes\n",
    "\n",
    "Test `list`, `dict`, `set`:"
   ]
  },
  {
   "cell_type": "code",
   "execution_count": 13,
   "id": "c0c880d53c30aae",
   "metadata": {
    "ExecuteTime": {
     "end_time": "2025-07-13T23:25:44.701872Z",
     "start_time": "2025-07-13T23:25:44.696543Z"
    }
   },
   "outputs": [],
   "source": [
    "vl = Variable([1, 2, 3])\n",
    "vd = Variable({\"a\": 1, \"b\": 2})\n",
    "vs = Variable({\"a\", \"b\", \"c\"})"
   ]
  },
  {
   "cell_type": "code",
   "execution_count": 14,
   "id": "6ef89410280cb6ce",
   "metadata": {
    "ExecuteTime": {
     "end_time": "2025-07-13T23:25:44.726689Z",
     "start_time": "2025-07-13T23:25:44.722333Z"
    }
   },
   "outputs": [
    {
     "data": {
      "text/plain": [
       "'[1, 2, 3]'"
      ]
     },
     "execution_count": 14,
     "metadata": {},
     "output_type": "execute_result"
    }
   ],
   "source": [
    "str(vl)"
   ]
  },
  {
   "cell_type": "code",
   "execution_count": 15,
   "id": "ec4cd21c5703eb5d",
   "metadata": {
    "ExecuteTime": {
     "end_time": "2025-07-13T23:25:45.201547Z",
     "start_time": "2025-07-13T23:25:44.751809Z"
    }
   },
   "outputs": [
    {
     "ename": "NotImplementedError",
     "evalue": "Latex strings not yet supported for lists.",
     "output_type": "error",
     "traceback": [
      "\u001b[31m---------------------------------------------------------------------------\u001b[39m",
      "\u001b[31mNotImplementedError\u001b[39m                       Traceback (most recent call last)",
      "\u001b[36mCell\u001b[39m\u001b[36m \u001b[39m\u001b[32mIn[15]\u001b[39m\u001b[32m, line 1\u001b[39m\n\u001b[32m----> \u001b[39m\u001b[32m1\u001b[39m \u001b[43mvl\u001b[49m\u001b[43m.\u001b[49m\u001b[43mlatex_string\u001b[49m\n",
      "\u001b[36mFile \u001b[39m\u001b[32m~\\PycharmProjects\\utilityscripts\\src\\utilityscripts\\result.py:205\u001b[39m, in \u001b[36mVariable.latex_string\u001b[39m\u001b[34m(self)\u001b[39m\n\u001b[32m    202\u001b[39m     \u001b[38;5;28;01mreturn\u001b[39;00m \u001b[38;5;28mself\u001b[39m.value._repr_mimebundle_()[\u001b[33m\"\u001b[39m\u001b[33mtext/latex\u001b[39m\u001b[33m\"\u001b[39m]\n\u001b[32m    204\u001b[39m \u001b[38;5;28;01mif\u001b[39;00m \u001b[38;5;28misinstance\u001b[39m(\u001b[38;5;28mself\u001b[39m.value, \u001b[38;5;28mlist\u001b[39m | \u001b[38;5;28mdict\u001b[39m | \u001b[38;5;28mset\u001b[39m):\n\u001b[32m--> \u001b[39m\u001b[32m205\u001b[39m     \u001b[38;5;28;01mraise\u001b[39;00m \u001b[38;5;167;01mNotImplementedError\u001b[39;00m(\u001b[33m\"\u001b[39m\u001b[33mLatex strings not yet supported for lists.\u001b[39m\u001b[33m\"\u001b[39m)\n\u001b[32m    207\u001b[39m \u001b[38;5;28;01mreturn\u001b[39;00m _simple_latex_format(\n\u001b[32m    208\u001b[39m     \u001b[38;5;28mself\u001b[39m.value, symbol=\u001b[38;5;28mself\u001b[39m.symbol, units=\u001b[38;5;28mself\u001b[39m.units, fmt_string=\u001b[38;5;28mself\u001b[39m.fmt_string\n\u001b[32m    209\u001b[39m )\n",
      "\u001b[31mNotImplementedError\u001b[39m: Latex strings not yet supported for lists."
     ]
    }
   ],
   "source": [
    "vl.latex_string"
   ]
  },
  {
   "cell_type": "code",
   "execution_count": null,
   "id": "d769761b6bf8f9df",
   "metadata": {},
   "outputs": [],
   "source": [
    "vl"
   ]
  },
  {
   "cell_type": "code",
   "execution_count": null,
   "id": "4e555544fb702028",
   "metadata": {},
   "outputs": [],
   "source": [
    "str(vd)"
   ]
  },
  {
   "cell_type": "code",
   "execution_count": null,
   "id": "6feb7d243a32f796",
   "metadata": {},
   "outputs": [],
   "source": [
    "vd.latex_string"
   ]
  },
  {
   "cell_type": "code",
   "execution_count": null,
   "id": "f7b5633cb6b07480",
   "metadata": {},
   "outputs": [],
   "source": [
    "vd"
   ]
  },
  {
   "cell_type": "code",
   "execution_count": null,
   "id": "da202e4e61846cfd",
   "metadata": {},
   "outputs": [],
   "source": [
    "str(vs)"
   ]
  },
  {
   "cell_type": "code",
   "execution_count": null,
   "id": "715a26624c5d5a11",
   "metadata": {},
   "outputs": [],
   "source": [
    "vs.latex_string"
   ]
  },
  {
   "cell_type": "code",
   "execution_count": null,
   "id": "a372eae4bed51174",
   "metadata": {},
   "outputs": [],
   "source": [
    "vs"
   ]
  },
  {
   "cell_type": "markdown",
   "id": "8d889326a96c120c",
   "metadata": {},
   "source": "m# Test Dataframes"
  },
  {
   "cell_type": "code",
   "execution_count": null,
   "id": "fc1a7fca04556d12",
   "metadata": {},
   "outputs": [],
   "source": [
    "import pandas as pd\n",
    "import polars as pl\n",
    "\n",
    "data = {\"a\": [1, 2, 3], \"b\": [\"a\", \"b\", \"c\"]}\n",
    "\n",
    "vpd = Variable(pd.DataFrame(data))\n",
    "vpl = Variable(pl.DataFrame(data))"
   ]
  },
  {
   "cell_type": "code",
   "execution_count": null,
   "id": "fd53a9fa369a45e",
   "metadata": {},
   "outputs": [],
   "source": [
    "vpd"
   ]
  },
  {
   "cell_type": "code",
   "execution_count": null,
   "id": "3358f9ba8cda3191",
   "metadata": {},
   "outputs": [],
   "source": [
    "vpl"
   ]
  }
 ],
 "metadata": {
  "kernelspec": {
   "display_name": "Python 3",
   "language": "python",
   "name": "python3"
  },
  "language_info": {
   "codemirror_mode": {
    "name": "ipython",
    "version": 2
   },
   "file_extension": ".py",
   "mimetype": "text/x-python",
   "name": "python",
   "nbconvert_exporter": "python",
   "pygments_lexer": "ipython2",
   "version": "2.7.6"
  }
 },
 "nbformat": 4,
 "nbformat_minor": 5
}
