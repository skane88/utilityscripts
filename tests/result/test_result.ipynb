{
 "cells": [
  {
   "cell_type": "markdown",
   "id": "d37f7825ce73e7f",
   "metadata": {},
   "source": [
    "# Test `Result` Objects\n",
    "\n",
    "Notebook for testing `Variable` and `Result` objects."
   ]
  },
  {
   "cell_type": "code",
   "id": "initial_id",
   "metadata": {
    "collapsed": true,
    "ExecuteTime": {
     "end_time": "2025-07-13T23:21:43.387552Z",
     "start_time": "2025-07-13T23:21:43.335062Z"
    }
   },
   "source": [
    "from IPython.display import Math\n",
    "\n",
    "from utilityscripts.result import Variable\n",
    "\n",
    "v = Variable(\"abc\", symbol=\"a\")\n",
    "\n",
    "Math(v.latex_string)"
   ],
   "outputs": [
    {
     "data": {
      "text/plain": [
       "<IPython.core.display.Math object>"
      ],
      "text/latex": "$\\displaystyle \\text{a} = \\text{abc}$"
     },
     "execution_count": 1,
     "metadata": {},
     "output_type": "execute_result"
    }
   ],
   "execution_count": 1
  },
  {
   "cell_type": "code",
   "id": "a588de168ec12fc3",
   "metadata": {
    "ExecuteTime": {
     "end_time": "2025-07-13T23:21:43.728111Z",
     "start_time": "2025-07-13T23:21:43.722958Z"
    }
   },
   "source": [
    "v.latex_string"
   ],
   "outputs": [
    {
     "data": {
      "text/plain": [
       "'$\\\\text{a} = \\\\text{abc}$'"
      ]
     },
     "execution_count": 2,
     "metadata": {},
     "output_type": "execute_result"
    }
   ],
   "execution_count": 2
  },
  {
   "cell_type": "code",
   "id": "4cfb0019a89a17",
   "metadata": {
    "ExecuteTime": {
     "end_time": "2025-07-13T23:21:43.740248Z",
     "start_time": "2025-07-13T23:21:43.731850Z"
    }
   },
   "source": [
    "str(v)"
   ],
   "outputs": [
    {
     "data": {
      "text/plain": [
       "'a=abc'"
      ]
     },
     "execution_count": 3,
     "metadata": {},
     "output_type": "execute_result"
    }
   ],
   "execution_count": 3
  },
  {
   "cell_type": "markdown",
   "id": "206c2596cea9c07e",
   "metadata": {},
   "source": "Now test if the object correctly uses the `_repr_mimebundle_` method to display output:"
  },
  {
   "cell_type": "code",
   "id": "2a546b12224a8080",
   "metadata": {
    "ExecuteTime": {
     "end_time": "2025-07-13T23:21:43.824922Z",
     "start_time": "2025-07-13T23:21:43.814622Z"
    }
   },
   "source": [
    "v"
   ],
   "outputs": [
    {
     "data": {
      "text/plain": [
       "a=abc"
      ],
      "text/latex": "$\\text{a} = \\text{abc}$"
     },
     "execution_count": 4,
     "metadata": {},
     "output_type": "execute_result"
    }
   ],
   "execution_count": 4
  },
  {
   "cell_type": "markdown",
   "id": "4f1ce9297bf35b63",
   "metadata": {},
   "source": [
    "# Test Compound Datatypes\n",
    "\n",
    "Test `list`, `dict`, `set`:"
   ]
  },
  {
   "cell_type": "code",
   "id": "c0c880d53c30aae",
   "metadata": {
    "ExecuteTime": {
     "end_time": "2025-07-13T23:21:43.863528Z",
     "start_time": "2025-07-13T23:21:43.856372Z"
    }
   },
   "source": [
    "vl = Variable([1, 2, 3])\n",
    "vd = Variable({\"a\": 1, \"b\": 2})\n",
    "vs = Variable({\"a\", \"b\", \"c\"})"
   ],
   "outputs": [],
   "execution_count": 5
  },
  {
   "metadata": {
    "ExecuteTime": {
     "end_time": "2025-07-13T23:21:43.894117Z",
     "start_time": "2025-07-13T23:21:43.887936Z"
    }
   },
   "cell_type": "code",
   "source": "str(vl)",
   "id": "6ef89410280cb6ce",
   "outputs": [
    {
     "data": {
      "text/plain": [
       "'[1, 2, 3]'"
      ]
     },
     "execution_count": 6,
     "metadata": {},
     "output_type": "execute_result"
    }
   ],
   "execution_count": 6
  },
  {
   "cell_type": "code",
   "id": "ec4cd21c5703eb5d",
   "metadata": {
    "ExecuteTime": {
     "end_time": "2025-07-13T23:21:44.334165Z",
     "start_time": "2025-07-13T23:21:43.928129Z"
    }
   },
   "source": [
    "vl.latex_string"
   ],
   "outputs": [
    {
     "ename": "NotImplementedError",
     "evalue": "Latex strings not yet supported for lists.",
     "output_type": "error",
     "traceback": [
      "\u001B[31m---------------------------------------------------------------------------\u001B[39m",
      "\u001B[31mNotImplementedError\u001B[39m                       Traceback (most recent call last)",
      "\u001B[36mCell\u001B[39m\u001B[36m \u001B[39m\u001B[32mIn[7]\u001B[39m\u001B[32m, line 1\u001B[39m\n\u001B[32m----> \u001B[39m\u001B[32m1\u001B[39m \u001B[43mvl\u001B[49m\u001B[43m.\u001B[49m\u001B[43mlatex_string\u001B[49m\n",
      "\u001B[36mFile \u001B[39m\u001B[32m~\\PycharmProjects\\utilityscripts\\src\\utilityscripts\\result.py:205\u001B[39m, in \u001B[36mVariable.latex_string\u001B[39m\u001B[34m(self)\u001B[39m\n\u001B[32m    202\u001B[39m     \u001B[38;5;28;01mreturn\u001B[39;00m \u001B[38;5;28mself\u001B[39m.value._repr_mimebundle_()[\u001B[33m\"\u001B[39m\u001B[33mtext/latex\u001B[39m\u001B[33m\"\u001B[39m]\n\u001B[32m    204\u001B[39m \u001B[38;5;28;01mif\u001B[39;00m \u001B[38;5;28misinstance\u001B[39m(\u001B[38;5;28mself\u001B[39m.value, \u001B[38;5;28mlist\u001B[39m | \u001B[38;5;28mdict\u001B[39m | \u001B[38;5;28mset\u001B[39m):\n\u001B[32m--> \u001B[39m\u001B[32m205\u001B[39m     \u001B[38;5;28;01mraise\u001B[39;00m \u001B[38;5;167;01mNotImplementedError\u001B[39;00m(\u001B[33m\"\u001B[39m\u001B[33mLatex strings not yet supported for lists.\u001B[39m\u001B[33m\"\u001B[39m)\n\u001B[32m    207\u001B[39m \u001B[38;5;28;01mreturn\u001B[39;00m _simple_latex_format(\n\u001B[32m    208\u001B[39m     \u001B[38;5;28mself\u001B[39m.value, symbol=\u001B[38;5;28mself\u001B[39m.symbol, units=\u001B[38;5;28mself\u001B[39m.units, fmt_string=\u001B[38;5;28mself\u001B[39m.fmt_string\n\u001B[32m    209\u001B[39m )\n",
      "\u001B[31mNotImplementedError\u001B[39m: Latex strings not yet supported for lists."
     ]
    }
   ],
   "execution_count": 7
  },
  {
   "cell_type": "code",
   "id": "d769761b6bf8f9df",
   "metadata": {},
   "source": [
    "vl"
   ],
   "outputs": [],
   "execution_count": null
  },
  {
   "metadata": {},
   "cell_type": "code",
   "source": "str(vd)",
   "id": "4e555544fb702028",
   "outputs": [],
   "execution_count": null
  },
  {
   "cell_type": "code",
   "id": "6feb7d243a32f796",
   "metadata": {},
   "source": [
    "vd.latex_string"
   ],
   "outputs": [],
   "execution_count": null
  },
  {
   "cell_type": "code",
   "id": "f7b5633cb6b07480",
   "metadata": {},
   "source": [
    "vd"
   ],
   "outputs": [],
   "execution_count": null
  },
  {
   "metadata": {},
   "cell_type": "code",
   "source": "str(vs)",
   "id": "da202e4e61846cfd",
   "outputs": [],
   "execution_count": null
  },
  {
   "cell_type": "code",
   "id": "715a26624c5d5a11",
   "metadata": {},
   "source": [
    "vs.latex_string"
   ],
   "outputs": [],
   "execution_count": null
  },
  {
   "cell_type": "code",
   "id": "a372eae4bed51174",
   "metadata": {},
   "source": [
    "vs"
   ],
   "outputs": [],
   "execution_count": null
  },
  {
   "cell_type": "markdown",
   "id": "8d889326a96c120c",
   "metadata": {},
   "source": "m# Test Dataframes"
  },
  {
   "cell_type": "code",
   "id": "fc1a7fca04556d12",
   "metadata": {},
   "source": [
    "import pandas as pd\n",
    "import polars as pl\n",
    "\n",
    "data = {\"a\": [1, 2, 3], \"b\": [\"a\", \"b\", \"c\"]}\n",
    "\n",
    "vpd = Variable(pd.DataFrame(data))\n",
    "vpl = Variable(pl.DataFrame(data))"
   ],
   "outputs": [],
   "execution_count": null
  },
  {
   "cell_type": "code",
   "id": "fd53a9fa369a45e",
   "metadata": {},
   "source": [
    "vpd"
   ],
   "outputs": [],
   "execution_count": null
  },
  {
   "cell_type": "code",
   "id": "3358f9ba8cda3191",
   "metadata": {},
   "source": [
    "vpl"
   ],
   "outputs": [],
   "execution_count": null
  }
 ],
 "metadata": {
  "kernelspec": {
   "display_name": "Python 3",
   "language": "python",
   "name": "python3"
  },
  "language_info": {
   "codemirror_mode": {
    "name": "ipython",
    "version": 2
   },
   "file_extension": ".py",
   "mimetype": "text/x-python",
   "name": "python",
   "nbconvert_exporter": "python",
   "pygments_lexer": "ipython2",
   "version": "2.7.6"
  }
 },
 "nbformat": 4,
 "nbformat_minor": 5
}
