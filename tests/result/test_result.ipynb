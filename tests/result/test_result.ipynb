{
 "cells": [
  {
   "cell_type": "markdown",
   "id": "d37f7825ce73e7f",
   "metadata": {},
   "source": [
    "# Test `Result` Objects\n",
    "\n",
    "Notebook for testing `Variable` and `Result` objects."
   ]
  },
  {
   "cell_type": "code",
   "id": "initial_id",
   "metadata": {
    "collapsed": true,
    "ExecuteTime": {
     "end_time": "2025-07-07T21:31:40.489638Z",
     "start_time": "2025-07-07T21:31:40.428866Z"
    }
   },
   "source": [
    "from IPython.display import Math\n",
    "\n",
    "from utilityscripts.result import Variable\n",
    "\n",
    "v = Variable(\"abc\", symbol=\"a\")\n",
    "\n",
    "Math(v.latex_string)"
   ],
   "outputs": [
    {
     "data": {
      "text/plain": [
       "<IPython.core.display.Math object>"
      ],
      "text/latex": "$\\displaystyle \\text{a} = abc$"
     },
     "execution_count": 1,
     "metadata": {},
     "output_type": "execute_result"
    }
   ],
   "execution_count": 1
  },
  {
   "cell_type": "code",
   "id": "a588de168ec12fc3",
   "metadata": {
    "ExecuteTime": {
     "end_time": "2025-07-07T21:31:40.954383Z",
     "start_time": "2025-07-07T21:31:40.945262Z"
    }
   },
   "source": [
    "v.latex_string"
   ],
   "outputs": [
    {
     "data": {
      "text/plain": [
       "'\\\\text{a} = abc'"
      ]
     },
     "execution_count": 2,
     "metadata": {},
     "output_type": "execute_result"
    }
   ],
   "execution_count": 2
  },
  {
   "cell_type": "code",
   "id": "4cfb0019a89a17",
   "metadata": {
    "ExecuteTime": {
     "end_time": "2025-07-07T21:31:40.992915Z",
     "start_time": "2025-07-07T21:31:40.985050Z"
    }
   },
   "source": [
    "str(v)"
   ],
   "outputs": [
    {
     "data": {
      "text/plain": [
       "'a=abc'"
      ]
     },
     "execution_count": 3,
     "metadata": {},
     "output_type": "execute_result"
    }
   ],
   "execution_count": 3
  },
  {
   "cell_type": "markdown",
   "id": "206c2596cea9c07e",
   "metadata": {},
   "source": "Now test if the object correctly uses the `_repr_mimebundle_` method to display output:"
  },
  {
   "cell_type": "code",
   "id": "2a546b12224a8080",
   "metadata": {
    "ExecuteTime": {
     "end_time": "2025-07-07T21:31:41.028341Z",
     "start_time": "2025-07-07T21:31:41.020221Z"
    }
   },
   "source": [
    "v"
   ],
   "outputs": [
    {
     "data": {
      "text/plain": [
       "a=abc"
      ],
      "text/latex": "$\\text{a} = abc$"
     },
     "execution_count": 4,
     "metadata": {},
     "output_type": "execute_result"
    }
   ],
   "execution_count": 4
  },
  {
   "cell_type": "markdown",
   "id": "8d889326a96c120c",
   "metadata": {},
   "source": "# Test Dataframes"
  },
  {
   "cell_type": "code",
   "id": "fc1a7fca04556d12",
   "metadata": {
    "ExecuteTime": {
     "end_time": "2025-07-07T21:31:42.038145Z",
     "start_time": "2025-07-07T21:31:41.066843Z"
    }
   },
   "source": [
    "import pandas as pd\n",
    "import polars as pl\n",
    "\n",
    "data = {\"a\": [1, 2, 3], \"b\": [\"a\", \"b\", \"c\"]}\n",
    "\n",
    "vpd = Variable(pd.DataFrame(data))\n",
    "vpl = Variable(pl.DataFrame(data))"
   ],
   "outputs": [],
   "execution_count": 5
  },
  {
   "cell_type": "code",
   "id": "fd53a9fa369a45e",
   "metadata": {
    "ExecuteTime": {
     "end_time": "2025-07-07T21:31:42.082026Z",
     "start_time": "2025-07-07T21:31:42.063357Z"
    }
   },
   "source": [
    "vpd"
   ],
   "outputs": [
    {
     "data": {
      "text/html": [
       "<div>\n",
       "<style scoped>\n",
       "    .dataframe tbody tr th:only-of-type {\n",
       "        vertical-align: middle;\n",
       "    }\n",
       "\n",
       "    .dataframe tbody tr th {\n",
       "        vertical-align: top;\n",
       "    }\n",
       "\n",
       "    .dataframe thead th {\n",
       "        text-align: right;\n",
       "    }\n",
       "</style>\n",
       "<table border=\"1\" class=\"dataframe\">\n",
       "  <thead>\n",
       "    <tr style=\"text-align: right;\">\n",
       "      <th></th>\n",
       "      <th>a</th>\n",
       "      <th>b</th>\n",
       "    </tr>\n",
       "  </thead>\n",
       "  <tbody>\n",
       "    <tr>\n",
       "      <th>0</th>\n",
       "      <td>1</td>\n",
       "      <td>a</td>\n",
       "    </tr>\n",
       "    <tr>\n",
       "      <th>1</th>\n",
       "      <td>2</td>\n",
       "      <td>b</td>\n",
       "    </tr>\n",
       "    <tr>\n",
       "      <th>2</th>\n",
       "      <td>3</td>\n",
       "      <td>c</td>\n",
       "    </tr>\n",
       "  </tbody>\n",
       "</table>\n",
       "</div>"
      ],
      "text/latex": null,
      "text/plain": [
       "Variable(   a  b\n",
       "0  1  a\n",
       "1  2  b\n",
       "2  3  c, symbol=None, units=None, fmt_string=None)"
      ]
     },
     "execution_count": 6,
     "metadata": {},
     "output_type": "execute_result"
    }
   ],
   "execution_count": 6
  },
  {
   "cell_type": "code",
   "id": "3358f9ba8cda3191",
   "metadata": {
    "ExecuteTime": {
     "end_time": "2025-07-07T21:31:42.178468Z",
     "start_time": "2025-07-07T21:31:42.169007Z"
    }
   },
   "source": [
    "vpl"
   ],
   "outputs": [
    {
     "data": {
      "text/html": [
       "<div><style>\n",
       ".dataframe > thead > tr,\n",
       ".dataframe > tbody > tr {\n",
       "  text-align: right;\n",
       "  white-space: pre-wrap;\n",
       "}\n",
       "</style>\n",
       "<small>shape: (3, 2)</small><table border=\"1\" class=\"dataframe\"><thead><tr><th>a</th><th>b</th></tr><tr><td>i64</td><td>str</td></tr></thead><tbody><tr><td>1</td><td>&quot;a&quot;</td></tr><tr><td>2</td><td>&quot;b&quot;</td></tr><tr><td>3</td><td>&quot;c&quot;</td></tr></tbody></table></div>"
      ],
      "text/plain": [
       "Variable(shape: (3, 2)\n",
       "┌─────┬─────┐\n",
       "│ a   ┆ b   │\n",
       "│ --- ┆ --- │\n",
       "│ i64 ┆ str │\n",
       "╞═════╪═════╡\n",
       "│ 1   ┆ a   │\n",
       "│ 2   ┆ b   │\n",
       "│ 3   ┆ c   │\n",
       "└─────┴─────┘, symbol=None, units=None, fmt_string=None)"
      ]
     },
     "execution_count": 7,
     "metadata": {},
     "output_type": "execute_result"
    }
   ],
   "execution_count": 7
  }
 ],
 "metadata": {
  "kernelspec": {
   "display_name": "Python 3",
   "language": "python",
   "name": "python3"
  },
  "language_info": {
   "codemirror_mode": {
    "name": "ipython",
    "version": 2
   },
   "file_extension": ".py",
   "mimetype": "text/x-python",
   "name": "python",
   "nbconvert_exporter": "python",
   "pygments_lexer": "ipython2",
   "version": "2.7.6"
  }
 },
 "nbformat": 4,
 "nbformat_minor": 5
}
