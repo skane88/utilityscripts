{
 "cells": [
  {
   "cell_type": "markdown",
   "id": "d37f7825ce73e7f",
   "metadata": {},
   "source": [
    "# Test `Result` Objects\n",
    "\n",
    "Notebook for testing `Variable` and `Result` objects."
   ]
  },
  {
   "cell_type": "code",
   "id": "initial_id",
   "metadata": {
    "collapsed": true,
    "ExecuteTime": {
     "end_time": "2025-07-15T20:47:34.793733Z",
     "start_time": "2025-07-15T20:47:34.726085Z"
    }
   },
   "source": [
    "from IPython.display import Math\n",
    "\n",
    "from utilityscripts.reports.report import Variable\n",
    "\n",
    "v = Variable(\"I was here\", symbol=\"a\")\n",
    "\n",
    "Math(v.latex_string)"
   ],
   "outputs": [
    {
     "data": {
      "text/plain": [
       "<IPython.core.display.Math object>"
      ],
      "text/latex": "$\\displaystyle \\text{a} = \\text{I was here}$"
     },
     "execution_count": 1,
     "metadata": {},
     "output_type": "execute_result"
    }
   ],
   "execution_count": 1
  },
  {
   "cell_type": "code",
   "id": "a588de168ec12fc3",
   "metadata": {
    "ExecuteTime": {
     "end_time": "2025-07-15T20:47:35.205526Z",
     "start_time": "2025-07-15T20:47:35.198249Z"
    }
   },
   "source": [
    "v.latex_string"
   ],
   "outputs": [
    {
     "data": {
      "text/plain": [
       "'$\\\\text{a} = \\\\text{I was here}$'"
      ]
     },
     "execution_count": 2,
     "metadata": {},
     "output_type": "execute_result"
    }
   ],
   "execution_count": 2
  },
  {
   "cell_type": "code",
   "id": "4cfb0019a89a17",
   "metadata": {
    "ExecuteTime": {
     "end_time": "2025-07-15T20:47:35.234607Z",
     "start_time": "2025-07-15T20:47:35.227545Z"
    }
   },
   "source": [
    "str(v)"
   ],
   "outputs": [
    {
     "data": {
      "text/plain": [
       "'a=I was here'"
      ]
     },
     "execution_count": 3,
     "metadata": {},
     "output_type": "execute_result"
    }
   ],
   "execution_count": 3
  },
  {
   "cell_type": "markdown",
   "id": "206c2596cea9c07e",
   "metadata": {},
   "source": "Now test if the object correctly uses the `_repr_mimebundle_` method to display output:"
  },
  {
   "cell_type": "code",
   "id": "2a546b12224a8080",
   "metadata": {
    "ExecuteTime": {
     "end_time": "2025-07-15T20:47:35.273365Z",
     "start_time": "2025-07-15T20:47:35.265997Z"
    }
   },
   "source": [
    "v"
   ],
   "outputs": [
    {
     "data": {
      "text/plain": [
       "a=I was here"
      ],
      "text/latex": "$\\text{a} = \\text{I was here}$"
     },
     "execution_count": 4,
     "metadata": {},
     "output_type": "execute_result"
    }
   ],
   "execution_count": 4
  },
  {
   "cell_type": "markdown",
   "id": "92653cf7f715e019",
   "metadata": {},
   "source": "# Test Numbers"
  },
  {
   "cell_type": "code",
   "id": "516ba1c044a4ed1",
   "metadata": {
    "ExecuteTime": {
     "end_time": "2025-07-15T20:47:35.314921Z",
     "start_time": "2025-07-15T20:47:35.308181Z"
    }
   },
   "source": [
    "b = Variable(2.123, symbol=\"b\")\n",
    "b"
   ],
   "outputs": [
    {
     "data": {
      "text/plain": [
       "b=2.123"
      ],
      "text/latex": "$\\text{b} = 2.123$"
     },
     "execution_count": 5,
     "metadata": {},
     "output_type": "execute_result"
    }
   ],
   "execution_count": 5
  },
  {
   "cell_type": "code",
   "id": "e8c3768dd1d1379e",
   "metadata": {
    "ExecuteTime": {
     "end_time": "2025-07-15T20:47:35.354401Z",
     "start_time": "2025-07-15T20:47:35.349112Z"
    }
   },
   "source": [
    "print(str(b))"
   ],
   "outputs": [
    {
     "name": "stdout",
     "output_type": "stream",
     "text": [
      "b=2.123\n"
     ]
    }
   ],
   "execution_count": 6
  },
  {
   "cell_type": "code",
   "id": "64ac561f2770f54d",
   "metadata": {
    "ExecuteTime": {
     "end_time": "2025-07-15T20:47:35.400689Z",
     "start_time": "2025-07-15T20:47:35.394702Z"
    }
   },
   "source": [
    "c = Variable(2, symbol=\"c\")\n",
    "c"
   ],
   "outputs": [
    {
     "data": {
      "text/plain": [
       "c=2"
      ],
      "text/latex": "$\\text{c} = 2$"
     },
     "execution_count": 7,
     "metadata": {},
     "output_type": "execute_result"
    }
   ],
   "execution_count": 7
  },
  {
   "cell_type": "code",
   "id": "fd418f5244b2bb6f",
   "metadata": {
    "ExecuteTime": {
     "end_time": "2025-07-15T20:47:35.427379Z",
     "start_time": "2025-07-15T20:47:35.422863Z"
    }
   },
   "source": [
    "print(str(c))"
   ],
   "outputs": [
    {
     "name": "stdout",
     "output_type": "stream",
     "text": [
      "c=2\n"
     ]
    }
   ],
   "execution_count": 8
  },
  {
   "cell_type": "code",
   "id": "58d24ab3dcc3f76",
   "metadata": {
    "ExecuteTime": {
     "end_time": "2025-07-15T20:47:35.470617Z",
     "start_time": "2025-07-15T20:47:35.464566Z"
    }
   },
   "source": [
    "d = Variable(3.1459, symbol=\"d\", units=\"m\")\n",
    "d"
   ],
   "outputs": [
    {
     "data": {
      "text/plain": [
       "d=3.1459m"
      ],
      "text/latex": "$\\text{d} = 3.1459\\text{m}$"
     },
     "execution_count": 9,
     "metadata": {},
     "output_type": "execute_result"
    }
   ],
   "execution_count": 9
  },
  {
   "cell_type": "code",
   "id": "937682de171000b5",
   "metadata": {
    "ExecuteTime": {
     "end_time": "2025-07-15T20:47:35.507480Z",
     "start_time": "2025-07-15T20:47:35.501773Z"
    }
   },
   "source": [
    "print(str(d))"
   ],
   "outputs": [
    {
     "name": "stdout",
     "output_type": "stream",
     "text": [
      "d=3.1459m\n"
     ]
    }
   ],
   "execution_count": 10
  },
  {
   "cell_type": "code",
   "id": "59c581b652379987",
   "metadata": {
    "ExecuteTime": {
     "end_time": "2025-07-15T20:47:35.540691Z",
     "start_time": "2025-07-15T20:47:35.534105Z"
    }
   },
   "source": [
    "from math import pi\n",
    "\n",
    "e = Variable(pi, symbol=\"e\", units=\"rad\", fmt_string=\".3e\")\n",
    "e"
   ],
   "outputs": [
    {
     "data": {
      "text/plain": [
       "e=3.142e+00rad"
      ],
      "text/latex": "$\\text{e} = 3.142 \\times 10^{0}\\text{rad}$"
     },
     "execution_count": 11,
     "metadata": {},
     "output_type": "execute_result"
    }
   ],
   "execution_count": 11
  },
  {
   "cell_type": "code",
   "id": "1d3bfa67bb3b7943",
   "metadata": {
    "ExecuteTime": {
     "end_time": "2025-07-15T20:47:35.581653Z",
     "start_time": "2025-07-15T20:47:35.572323Z"
    }
   },
   "source": [
    "print(str(e))"
   ],
   "outputs": [
    {
     "name": "stdout",
     "output_type": "stream",
     "text": [
      "e=3.142e+00rad\n"
     ]
    }
   ],
   "execution_count": 12
  },
  {
   "metadata": {},
   "cell_type": "markdown",
   "source": "# Test Greek Letters",
   "id": "53295da4572b8a7b"
  },
  {
   "metadata": {
    "ExecuteTime": {
     "end_time": "2025-07-15T20:47:35.626480Z",
     "start_time": "2025-07-15T20:47:35.620560Z"
    }
   },
   "cell_type": "code",
   "source": [
    "alpha = Variable(\"alpha\")\n",
    "alpha"
   ],
   "id": "da4d79587b3253f",
   "outputs": [
    {
     "data": {
      "text/plain": [
       "alpha"
      ],
      "text/latex": "$\\text{alpha}$"
     },
     "execution_count": 13,
     "metadata": {},
     "output_type": "execute_result"
    }
   ],
   "execution_count": 13
  },
  {
   "metadata": {},
   "cell_type": "markdown",
   "source": "# Test `None`",
   "id": "eafdb85c47c653e0"
  },
  {
   "metadata": {
    "ExecuteTime": {
     "end_time": "2025-07-15T20:47:35.671270Z",
     "start_time": "2025-07-15T20:47:35.664356Z"
    }
   },
   "cell_type": "code",
   "source": [
    "val_none = Variable(None)\n",
    "val_none"
   ],
   "id": "54a8278343b430d0",
   "outputs": [
    {
     "data": {
      "text/plain": [
       "None"
      ],
      "text/latex": "$\\text{None}$"
     },
     "execution_count": 14,
     "metadata": {},
     "output_type": "execute_result"
    }
   ],
   "execution_count": 14
  },
  {
   "metadata": {
    "ExecuteTime": {
     "end_time": "2025-07-15T20:47:35.719577Z",
     "start_time": "2025-07-15T20:47:35.712443Z"
    }
   },
   "cell_type": "code",
   "source": [
    "val_none_2 = Variable(None, symbol=\"a\")\n",
    "val_none_2"
   ],
   "id": "c19a562a9a8c6534",
   "outputs": [
    {
     "data": {
      "text/plain": [
       "a=None"
      ],
      "text/latex": "$\\text{a} = \\text{None}$"
     },
     "execution_count": 15,
     "metadata": {},
     "output_type": "execute_result"
    }
   ],
   "execution_count": 15
  },
  {
   "metadata": {
    "ExecuteTime": {
     "end_time": "2025-07-15T20:47:35.765334Z",
     "start_time": "2025-07-15T20:47:35.759190Z"
    }
   },
   "cell_type": "code",
   "source": "str(val_none_2)",
   "id": "8663400a422e41fd",
   "outputs": [
    {
     "data": {
      "text/plain": [
       "'a=None'"
      ]
     },
     "execution_count": 16,
     "metadata": {},
     "output_type": "execute_result"
    }
   ],
   "execution_count": 16
  },
  {
   "cell_type": "markdown",
   "id": "4f1ce9297bf35b63",
   "metadata": {},
   "source": [
    "# Test Compound Datatypes\n",
    "\n",
    "Test `list`, `dict`, `set`:"
   ]
  },
  {
   "cell_type": "code",
   "id": "c0c880d53c30aae",
   "metadata": {
    "ExecuteTime": {
     "end_time": "2025-07-15T20:47:35.836758Z",
     "start_time": "2025-07-15T20:47:35.830858Z"
    }
   },
   "source": [
    "vl = Variable([1, 2, 3])\n",
    "vd = Variable({\"a\": 1, \"b\": 2})\n",
    "vs = Variable({\"a\", \"b\", \"c\"})"
   ],
   "outputs": [],
   "execution_count": 17
  },
  {
   "cell_type": "code",
   "id": "6ef89410280cb6ce",
   "metadata": {
    "ExecuteTime": {
     "end_time": "2025-07-15T20:47:35.900039Z",
     "start_time": "2025-07-15T20:47:35.892746Z"
    }
   },
   "source": [
    "str(vl)"
   ],
   "outputs": [
    {
     "data": {
      "text/plain": [
       "'[1, 2, 3]'"
      ]
     },
     "execution_count": 18,
     "metadata": {},
     "output_type": "execute_result"
    }
   ],
   "execution_count": 18
  },
  {
   "cell_type": "code",
   "id": "ec4cd21c5703eb5d",
   "metadata": {
    "ExecuteTime": {
     "end_time": "2025-07-15T20:47:36.441096Z",
     "start_time": "2025-07-15T20:47:35.950684Z"
    }
   },
   "source": [
    "vl.latex_string"
   ],
   "outputs": [
    {
     "ename": "NotImplementedError",
     "evalue": "Latex strings not yet supported for lists.",
     "output_type": "error",
     "traceback": [
      "\u001B[31m---------------------------------------------------------------------------\u001B[39m",
      "\u001B[31mNotImplementedError\u001B[39m                       Traceback (most recent call last)",
      "\u001B[36mCell\u001B[39m\u001B[36m \u001B[39m\u001B[32mIn[19]\u001B[39m\u001B[32m, line 1\u001B[39m\n\u001B[32m----> \u001B[39m\u001B[32m1\u001B[39m \u001B[43mvl\u001B[49m\u001B[43m.\u001B[49m\u001B[43mlatex_string\u001B[49m\n",
      "\u001B[36mFile \u001B[39m\u001B[32m~\\PycharmProjects\\utilityscripts\\src\\utilityscripts\\reports\\report.py:289\u001B[39m, in \u001B[36mVariable.latex_string\u001B[39m\u001B[34m(self)\u001B[39m\n\u001B[32m    286\u001B[39m     \u001B[38;5;28;01mreturn\u001B[39;00m \u001B[38;5;28mself\u001B[39m.value._repr_mimebundle_()[\u001B[33m\"\u001B[39m\u001B[33mtext/latex\u001B[39m\u001B[33m\"\u001B[39m]\n\u001B[32m    288\u001B[39m \u001B[38;5;28;01mif\u001B[39;00m \u001B[38;5;28misinstance\u001B[39m(\u001B[38;5;28mself\u001B[39m.value, \u001B[38;5;28mlist\u001B[39m | \u001B[38;5;28mdict\u001B[39m | \u001B[38;5;28mset\u001B[39m):\n\u001B[32m--> \u001B[39m\u001B[32m289\u001B[39m     \u001B[38;5;28;01mraise\u001B[39;00m \u001B[38;5;167;01mNotImplementedError\u001B[39;00m(\u001B[33m\"\u001B[39m\u001B[33mLatex strings not yet supported for lists.\u001B[39m\u001B[33m\"\u001B[39m)\n\u001B[32m    291\u001B[39m symbol = \u001B[38;5;28mself\u001B[39m._latex_symbol + \u001B[33m\"\u001B[39m\u001B[33m = \u001B[39m\u001B[33m\"\u001B[39m \u001B[38;5;28;01mif\u001B[39;00m \u001B[38;5;28mself\u001B[39m._latex_symbol != \u001B[33m\"\u001B[39m\u001B[33m\"\u001B[39m \u001B[38;5;28;01melse\u001B[39;00m \u001B[33m\"\u001B[39m\u001B[33m\"\u001B[39m\n\u001B[32m    293\u001B[39m \u001B[38;5;28;01mreturn\u001B[39;00m \u001B[33m\"\u001B[39m\u001B[33m$\u001B[39m\u001B[33m\"\u001B[39m + symbol + \u001B[38;5;28mself\u001B[39m._latex_value + \u001B[38;5;28mself\u001B[39m._latex_units + \u001B[33m\"\u001B[39m\u001B[33m$\u001B[39m\u001B[33m\"\u001B[39m\n",
      "\u001B[31mNotImplementedError\u001B[39m: Latex strings not yet supported for lists."
     ]
    }
   ],
   "execution_count": 19
  },
  {
   "cell_type": "code",
   "id": "d769761b6bf8f9df",
   "metadata": {},
   "source": [
    "vl"
   ],
   "outputs": [],
   "execution_count": null
  },
  {
   "cell_type": "code",
   "id": "4e555544fb702028",
   "metadata": {},
   "source": [
    "str(vd)"
   ],
   "outputs": [],
   "execution_count": null
  },
  {
   "cell_type": "code",
   "id": "6feb7d243a32f796",
   "metadata": {},
   "source": [
    "vd.latex_string"
   ],
   "outputs": [],
   "execution_count": null
  },
  {
   "cell_type": "code",
   "id": "f7b5633cb6b07480",
   "metadata": {},
   "source": [
    "vd"
   ],
   "outputs": [],
   "execution_count": null
  },
  {
   "cell_type": "code",
   "id": "da202e4e61846cfd",
   "metadata": {},
   "source": [
    "str(vs)"
   ],
   "outputs": [],
   "execution_count": null
  },
  {
   "cell_type": "code",
   "id": "715a26624c5d5a11",
   "metadata": {},
   "source": [
    "vs.latex_string"
   ],
   "outputs": [],
   "execution_count": null
  },
  {
   "cell_type": "code",
   "id": "a372eae4bed51174",
   "metadata": {},
   "source": [
    "vs"
   ],
   "outputs": [],
   "execution_count": null
  },
  {
   "cell_type": "markdown",
   "id": "8d889326a96c120c",
   "metadata": {},
   "source": "m# Test Dataframes"
  },
  {
   "cell_type": "code",
   "id": "fc1a7fca04556d12",
   "metadata": {},
   "source": [
    "import pandas as pd\n",
    "import polars as pl\n",
    "\n",
    "data = {\"a\": [1, 2, 3], \"b\": [\"a\", \"b\", \"c\"]}\n",
    "\n",
    "vpd = Variable(pd.DataFrame(data))\n",
    "vpl = Variable(pl.DataFrame(data))"
   ],
   "outputs": [],
   "execution_count": null
  },
  {
   "cell_type": "code",
   "id": "fd53a9fa369a45e",
   "metadata": {},
   "source": [
    "vpd"
   ],
   "outputs": [],
   "execution_count": null
  },
  {
   "cell_type": "code",
   "id": "3358f9ba8cda3191",
   "metadata": {},
   "source": [
    "vpl"
   ],
   "outputs": [],
   "execution_count": null
  }
 ],
 "metadata": {
  "kernelspec": {
   "display_name": "Python 3",
   "language": "python",
   "name": "python3"
  },
  "language_info": {
   "codemirror_mode": {
    "name": "ipython",
    "version": 2
   },
   "file_extension": ".py",
   "mimetype": "text/x-python",
   "name": "python",
   "nbconvert_exporter": "python",
   "pygments_lexer": "ipython2",
   "version": "2.7.6"
  }
 },
 "nbformat": 4,
 "nbformat_minor": 5
}
