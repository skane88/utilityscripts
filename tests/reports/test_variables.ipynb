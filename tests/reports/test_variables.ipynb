{
 "cells": [
  {
   "cell_type": "markdown",
   "id": "d37f7825ce73e7f",
   "metadata": {},
   "source": [
    "# Test `Result` Objects\n",
    "\n",
    "Notebook for testing `Variable` and `Result` objects."
   ]
  },
  {
   "cell_type": "code",
   "execution_count": 1,
   "id": "initial_id",
   "metadata": {
    "ExecuteTime": {
     "end_time": "2025-09-01T07:58:36.006570Z",
     "start_time": "2025-09-01T07:58:35.930877Z"
    },
    "collapsed": true
   },
   "outputs": [
    {
     "data": {
      "text/latex": "$\\displaystyle \\text{a} = \\text{I was here}$",
      "text/plain": [
       "<IPython.core.display.Math object>"
      ]
     },
     "execution_count": 1,
     "metadata": {},
     "output_type": "execute_result"
    }
   ],
   "source": [
    "from IPython.display import Math\n",
    "\n",
    "from utilityscripts.reports.report import Variable\n",
    "\n",
    "v = Variable(\"I was here\", symbol=\"a\")\n",
    "\n",
    "Math(v.latex_string)"
   ]
  },
  {
   "cell_type": "code",
   "execution_count": 2,
   "id": "a588de168ec12fc3",
   "metadata": {
    "ExecuteTime": {
     "end_time": "2025-09-01T07:58:36.048845Z",
     "start_time": "2025-09-01T07:58:36.042583Z"
    }
   },
   "outputs": [
    {
     "data": {
      "text/plain": [
       "'$\\\\text{a} = \\\\text{I was here}$'"
      ]
     },
     "execution_count": 2,
     "metadata": {},
     "output_type": "execute_result"
    }
   ],
   "source": [
    "v.latex_string"
   ]
  },
  {
   "cell_type": "code",
   "execution_count": 3,
   "id": "4cfb0019a89a17",
   "metadata": {
    "ExecuteTime": {
     "end_time": "2025-09-01T07:58:36.098629Z",
     "start_time": "2025-09-01T07:58:36.093642Z"
    }
   },
   "outputs": [
    {
     "data": {
      "text/plain": [
       "\"a='I was here'\""
      ]
     },
     "execution_count": 3,
     "metadata": {},
     "output_type": "execute_result"
    }
   ],
   "source": [
    "str(v)"
   ]
  },
  {
   "cell_type": "markdown",
   "id": "206c2596cea9c07e",
   "metadata": {},
   "source": "Now test if the object correctly uses the `_repr_mimebundle_` method to display output:"
  },
  {
   "cell_type": "code",
   "execution_count": 4,
   "id": "2a546b12224a8080",
   "metadata": {
    "ExecuteTime": {
     "end_time": "2025-09-01T07:58:36.157403Z",
     "start_time": "2025-09-01T07:58:36.152882Z"
    }
   },
   "outputs": [
    {
     "data": {
      "text/latex": "$\\text{a} = \\text{I was here}$",
      "text/plain": [
       "a='I was here'"
      ]
     },
     "execution_count": 4,
     "metadata": {},
     "output_type": "execute_result"
    }
   ],
   "source": [
    "v"
   ]
  },
  {
   "cell_type": "markdown",
   "id": "92653cf7f715e019",
   "metadata": {},
   "source": "# Test Numbers"
  },
  {
   "cell_type": "code",
   "execution_count": 5,
   "id": "516ba1c044a4ed1",
   "metadata": {
    "ExecuteTime": {
     "end_time": "2025-09-01T07:58:36.210343Z",
     "start_time": "2025-09-01T07:58:36.205430Z"
    }
   },
   "outputs": [
    {
     "data": {
      "text/latex": "$\\text{b} = 2.123$",
      "text/plain": [
       "b=2.123"
      ]
     },
     "execution_count": 5,
     "metadata": {},
     "output_type": "execute_result"
    }
   ],
   "source": [
    "b = Variable(2.123, symbol=\"b\")\n",
    "b"
   ]
  },
  {
   "cell_type": "code",
   "execution_count": 6,
   "id": "e8c3768dd1d1379e",
   "metadata": {
    "ExecuteTime": {
     "end_time": "2025-09-01T07:58:36.252252Z",
     "start_time": "2025-09-01T07:58:36.247541Z"
    }
   },
   "outputs": [
    {
     "name": "stdout",
     "output_type": "stream",
     "text": [
      "b=2.123\n"
     ]
    }
   ],
   "source": [
    "print(str(b))"
   ]
  },
  {
   "cell_type": "code",
   "execution_count": 7,
   "id": "64ac561f2770f54d",
   "metadata": {
    "ExecuteTime": {
     "end_time": "2025-09-01T07:58:36.318701Z",
     "start_time": "2025-09-01T07:58:36.313838Z"
    }
   },
   "outputs": [
    {
     "data": {
      "text/latex": "$\\text{c} = 2$",
      "text/plain": [
       "c=2"
      ]
     },
     "execution_count": 7,
     "metadata": {},
     "output_type": "execute_result"
    }
   ],
   "source": [
    "c = Variable(2, symbol=\"c\")\n",
    "c"
   ]
  },
  {
   "cell_type": "code",
   "execution_count": 8,
   "id": "fd418f5244b2bb6f",
   "metadata": {
    "ExecuteTime": {
     "end_time": "2025-09-01T07:58:36.362512Z",
     "start_time": "2025-09-01T07:58:36.358781Z"
    }
   },
   "outputs": [
    {
     "name": "stdout",
     "output_type": "stream",
     "text": [
      "c=2\n"
     ]
    }
   ],
   "source": [
    "print(str(c))"
   ]
  },
  {
   "cell_type": "code",
   "execution_count": 9,
   "id": "58d24ab3dcc3f76",
   "metadata": {
    "ExecuteTime": {
     "end_time": "2025-09-01T07:58:36.391518Z",
     "start_time": "2025-09-01T07:58:36.386786Z"
    }
   },
   "outputs": [
    {
     "data": {
      "text/latex": "$\\text{d} = 3.1459\\text{m}$",
      "text/plain": [
       "d=3.1459m"
      ]
     },
     "execution_count": 9,
     "metadata": {},
     "output_type": "execute_result"
    }
   ],
   "source": [
    "d = Variable(3.1459, symbol=\"d\", units=\"m\")\n",
    "d"
   ]
  },
  {
   "cell_type": "code",
   "execution_count": 10,
   "id": "937682de171000b5",
   "metadata": {
    "ExecuteTime": {
     "end_time": "2025-09-01T07:58:36.446099Z",
     "start_time": "2025-09-01T07:58:36.441517Z"
    }
   },
   "outputs": [
    {
     "name": "stdout",
     "output_type": "stream",
     "text": [
      "d=3.1459m\n"
     ]
    }
   ],
   "source": [
    "print(str(d))"
   ]
  },
  {
   "cell_type": "code",
   "execution_count": 11,
   "id": "59c581b652379987",
   "metadata": {
    "ExecuteTime": {
     "end_time": "2025-09-01T07:58:36.503127Z",
     "start_time": "2025-09-01T07:58:36.497088Z"
    }
   },
   "outputs": [
    {
     "data": {
      "text/latex": "$\\text{e} = 3.142 \\times 10^{0}\\text{rad}$",
      "text/plain": [
       "e=3.142e+00rad"
      ]
     },
     "execution_count": 11,
     "metadata": {},
     "output_type": "execute_result"
    }
   ],
   "source": [
    "from math import pi\n",
    "\n",
    "e = Variable(pi, symbol=\"e\", units=\"rad\", fmt_string=\".3e\")\n",
    "e"
   ]
  },
  {
   "cell_type": "code",
   "execution_count": 12,
   "id": "1d3bfa67bb3b7943",
   "metadata": {
    "ExecuteTime": {
     "end_time": "2025-09-01T07:58:36.563737Z",
     "start_time": "2025-09-01T07:58:36.560014Z"
    }
   },
   "outputs": [
    {
     "name": "stdout",
     "output_type": "stream",
     "text": [
      "e=3.142e+00rad\n"
     ]
    }
   ],
   "source": [
    "print(str(e))"
   ]
  },
  {
   "cell_type": "markdown",
   "id": "53295da4572b8a7b",
   "metadata": {},
   "source": "# Test Greek Letters"
  },
  {
   "cell_type": "code",
   "execution_count": 13,
   "id": "da4d79587b3253f",
   "metadata": {
    "ExecuteTime": {
     "end_time": "2025-09-01T07:58:36.588438Z",
     "start_time": "2025-09-01T07:58:36.584890Z"
    }
   },
   "outputs": [],
   "source": [
    "from utilityscripts.reports._greek_chars import GREEK_CHAR_MAP\n",
    "\n",
    "variables = [Variable(g) for g in GREEK_CHAR_MAP]"
   ]
  },
  {
   "cell_type": "code",
   "execution_count": 14,
   "id": "7f318ea70f41567e",
   "metadata": {
    "ExecuteTime": {
     "end_time": "2025-09-01T07:58:36.828461Z",
     "start_time": "2025-09-01T07:58:36.631921Z"
    }
   },
   "outputs": [
    {
     "data": {
      "text/latex": "$\\displaystyle \\alpha$",
      "text/plain": [
       "<IPython.core.display.Math object>"
      ]
     },
     "jetTransient": {
      "display_id": null
     },
     "metadata": {},
     "output_type": "display_data"
    },
    {
     "data": {
      "text/latex": "$\\displaystyle \\alpha$",
      "text/plain": [
       "<IPython.core.display.Math object>"
      ]
     },
     "jetTransient": {
      "display_id": null
     },
     "metadata": {},
     "output_type": "display_data"
    },
    {
     "data": {
      "text/latex": "$\\displaystyle \\beta$",
      "text/plain": [
       "<IPython.core.display.Math object>"
      ]
     },
     "jetTransient": {
      "display_id": null
     },
     "metadata": {},
     "output_type": "display_data"
    },
    {
     "data": {
      "text/latex": "$\\displaystyle \\beta$",
      "text/plain": [
       "<IPython.core.display.Math object>"
      ]
     },
     "jetTransient": {
      "display_id": null
     },
     "metadata": {},
     "output_type": "display_data"
    },
    {
     "data": {
      "text/latex": "$\\displaystyle \\gamma$",
      "text/plain": [
       "<IPython.core.display.Math object>"
      ]
     },
     "jetTransient": {
      "display_id": null
     },
     "metadata": {},
     "output_type": "display_data"
    },
    {
     "data": {
      "text/latex": "$\\displaystyle \\gamma$",
      "text/plain": [
       "<IPython.core.display.Math object>"
      ]
     },
     "jetTransient": {
      "display_id": null
     },
     "metadata": {},
     "output_type": "display_data"
    },
    {
     "data": {
      "text/latex": "$\\displaystyle \\delta$",
      "text/plain": [
       "<IPython.core.display.Math object>"
      ]
     },
     "jetTransient": {
      "display_id": null
     },
     "metadata": {},
     "output_type": "display_data"
    },
    {
     "data": {
      "text/latex": "$\\displaystyle \\delta$",
      "text/plain": [
       "<IPython.core.display.Math object>"
      ]
     },
     "jetTransient": {
      "display_id": null
     },
     "metadata": {},
     "output_type": "display_data"
    },
    {
     "data": {
      "text/latex": "$\\displaystyle \\epsilon$",
      "text/plain": [
       "<IPython.core.display.Math object>"
      ]
     },
     "jetTransient": {
      "display_id": null
     },
     "metadata": {},
     "output_type": "display_data"
    },
    {
     "data": {
      "text/latex": "$\\displaystyle \\epsilon$",
      "text/plain": [
       "<IPython.core.display.Math object>"
      ]
     },
     "jetTransient": {
      "display_id": null
     },
     "metadata": {},
     "output_type": "display_data"
    },
    {
     "data": {
      "text/latex": "$\\displaystyle \\zeta$",
      "text/plain": [
       "<IPython.core.display.Math object>"
      ]
     },
     "jetTransient": {
      "display_id": null
     },
     "metadata": {},
     "output_type": "display_data"
    },
    {
     "data": {
      "text/latex": "$\\displaystyle \\zeta$",
      "text/plain": [
       "<IPython.core.display.Math object>"
      ]
     },
     "jetTransient": {
      "display_id": null
     },
     "metadata": {},
     "output_type": "display_data"
    },
    {
     "data": {
      "text/latex": "$\\displaystyle \\eta$",
      "text/plain": [
       "<IPython.core.display.Math object>"
      ]
     },
     "jetTransient": {
      "display_id": null
     },
     "metadata": {},
     "output_type": "display_data"
    },
    {
     "data": {
      "text/latex": "$\\displaystyle \\eta$",
      "text/plain": [
       "<IPython.core.display.Math object>"
      ]
     },
     "jetTransient": {
      "display_id": null
     },
     "metadata": {},
     "output_type": "display_data"
    },
    {
     "data": {
      "text/latex": "$\\displaystyle \\theta$",
      "text/plain": [
       "<IPython.core.display.Math object>"
      ]
     },
     "jetTransient": {
      "display_id": null
     },
     "metadata": {},
     "output_type": "display_data"
    },
    {
     "data": {
      "text/latex": "$\\displaystyle \\theta$",
      "text/plain": [
       "<IPython.core.display.Math object>"
      ]
     },
     "jetTransient": {
      "display_id": null
     },
     "metadata": {},
     "output_type": "display_data"
    },
    {
     "data": {
      "text/latex": "$\\displaystyle \\iota$",
      "text/plain": [
       "<IPython.core.display.Math object>"
      ]
     },
     "jetTransient": {
      "display_id": null
     },
     "metadata": {},
     "output_type": "display_data"
    },
    {
     "data": {
      "text/latex": "$\\displaystyle \\iota$",
      "text/plain": [
       "<IPython.core.display.Math object>"
      ]
     },
     "jetTransient": {
      "display_id": null
     },
     "metadata": {},
     "output_type": "display_data"
    },
    {
     "data": {
      "text/latex": "$\\displaystyle \\kappa$",
      "text/plain": [
       "<IPython.core.display.Math object>"
      ]
     },
     "jetTransient": {
      "display_id": null
     },
     "metadata": {},
     "output_type": "display_data"
    },
    {
     "data": {
      "text/latex": "$\\displaystyle \\kappa$",
      "text/plain": [
       "<IPython.core.display.Math object>"
      ]
     },
     "jetTransient": {
      "display_id": null
     },
     "metadata": {},
     "output_type": "display_data"
    },
    {
     "data": {
      "text/latex": "$\\displaystyle \\lambda$",
      "text/plain": [
       "<IPython.core.display.Math object>"
      ]
     },
     "jetTransient": {
      "display_id": null
     },
     "metadata": {},
     "output_type": "display_data"
    },
    {
     "data": {
      "text/latex": "$\\displaystyle \\lambda$",
      "text/plain": [
       "<IPython.core.display.Math object>"
      ]
     },
     "jetTransient": {
      "display_id": null
     },
     "metadata": {},
     "output_type": "display_data"
    },
    {
     "data": {
      "text/latex": "$\\displaystyle \\mu$",
      "text/plain": [
       "<IPython.core.display.Math object>"
      ]
     },
     "jetTransient": {
      "display_id": null
     },
     "metadata": {},
     "output_type": "display_data"
    },
    {
     "data": {
      "text/latex": "$\\displaystyle \\mu$",
      "text/plain": [
       "<IPython.core.display.Math object>"
      ]
     },
     "jetTransient": {
      "display_id": null
     },
     "metadata": {},
     "output_type": "display_data"
    },
    {
     "data": {
      "text/latex": "$\\displaystyle \\nu$",
      "text/plain": [
       "<IPython.core.display.Math object>"
      ]
     },
     "jetTransient": {
      "display_id": null
     },
     "metadata": {},
     "output_type": "display_data"
    },
    {
     "data": {
      "text/latex": "$\\displaystyle \\nu$",
      "text/plain": [
       "<IPython.core.display.Math object>"
      ]
     },
     "jetTransient": {
      "display_id": null
     },
     "metadata": {},
     "output_type": "display_data"
    },
    {
     "data": {
      "text/latex": "$\\displaystyle \\xi$",
      "text/plain": [
       "<IPython.core.display.Math object>"
      ]
     },
     "jetTransient": {
      "display_id": null
     },
     "metadata": {},
     "output_type": "display_data"
    },
    {
     "data": {
      "text/latex": "$\\displaystyle \\xi$",
      "text/plain": [
       "<IPython.core.display.Math object>"
      ]
     },
     "jetTransient": {
      "display_id": null
     },
     "metadata": {},
     "output_type": "display_data"
    },
    {
     "data": {
      "text/latex": "$\\displaystyle \\omicron$",
      "text/plain": [
       "<IPython.core.display.Math object>"
      ]
     },
     "jetTransient": {
      "display_id": null
     },
     "metadata": {},
     "output_type": "display_data"
    },
    {
     "data": {
      "text/latex": "$\\displaystyle \\omicron$",
      "text/plain": [
       "<IPython.core.display.Math object>"
      ]
     },
     "jetTransient": {
      "display_id": null
     },
     "metadata": {},
     "output_type": "display_data"
    },
    {
     "data": {
      "text/latex": "$\\displaystyle \\pi$",
      "text/plain": [
       "<IPython.core.display.Math object>"
      ]
     },
     "jetTransient": {
      "display_id": null
     },
     "metadata": {},
     "output_type": "display_data"
    },
    {
     "data": {
      "text/latex": "$\\displaystyle \\pi$",
      "text/plain": [
       "<IPython.core.display.Math object>"
      ]
     },
     "jetTransient": {
      "display_id": null
     },
     "metadata": {},
     "output_type": "display_data"
    },
    {
     "data": {
      "text/latex": "$\\displaystyle \\rho$",
      "text/plain": [
       "<IPython.core.display.Math object>"
      ]
     },
     "jetTransient": {
      "display_id": null
     },
     "metadata": {},
     "output_type": "display_data"
    },
    {
     "data": {
      "text/latex": "$\\displaystyle \\rho$",
      "text/plain": [
       "<IPython.core.display.Math object>"
      ]
     },
     "jetTransient": {
      "display_id": null
     },
     "metadata": {},
     "output_type": "display_data"
    },
    {
     "data": {
      "text/latex": "$\\displaystyle \\sigma$",
      "text/plain": [
       "<IPython.core.display.Math object>"
      ]
     },
     "jetTransient": {
      "display_id": null
     },
     "metadata": {},
     "output_type": "display_data"
    },
    {
     "data": {
      "text/latex": "$\\displaystyle \\sigma$",
      "text/plain": [
       "<IPython.core.display.Math object>"
      ]
     },
     "jetTransient": {
      "display_id": null
     },
     "metadata": {},
     "output_type": "display_data"
    },
    {
     "data": {
      "text/latex": "$\\displaystyle \\tau$",
      "text/plain": [
       "<IPython.core.display.Math object>"
      ]
     },
     "jetTransient": {
      "display_id": null
     },
     "metadata": {},
     "output_type": "display_data"
    },
    {
     "data": {
      "text/latex": "$\\displaystyle \\tau$",
      "text/plain": [
       "<IPython.core.display.Math object>"
      ]
     },
     "jetTransient": {
      "display_id": null
     },
     "metadata": {},
     "output_type": "display_data"
    },
    {
     "data": {
      "text/latex": "$\\displaystyle \\upsilon$",
      "text/plain": [
       "<IPython.core.display.Math object>"
      ]
     },
     "jetTransient": {
      "display_id": null
     },
     "metadata": {},
     "output_type": "display_data"
    },
    {
     "data": {
      "text/latex": "$\\displaystyle \\upsilon$",
      "text/plain": [
       "<IPython.core.display.Math object>"
      ]
     },
     "jetTransient": {
      "display_id": null
     },
     "metadata": {},
     "output_type": "display_data"
    },
    {
     "data": {
      "text/latex": "$\\displaystyle \\phi$",
      "text/plain": [
       "<IPython.core.display.Math object>"
      ]
     },
     "jetTransient": {
      "display_id": null
     },
     "metadata": {},
     "output_type": "display_data"
    },
    {
     "data": {
      "text/latex": "$\\displaystyle \\phi$",
      "text/plain": [
       "<IPython.core.display.Math object>"
      ]
     },
     "jetTransient": {
      "display_id": null
     },
     "metadata": {},
     "output_type": "display_data"
    },
    {
     "data": {
      "text/latex": "$\\displaystyle \\chi$",
      "text/plain": [
       "<IPython.core.display.Math object>"
      ]
     },
     "jetTransient": {
      "display_id": null
     },
     "metadata": {},
     "output_type": "display_data"
    },
    {
     "data": {
      "text/latex": "$\\displaystyle \\chi$",
      "text/plain": [
       "<IPython.core.display.Math object>"
      ]
     },
     "jetTransient": {
      "display_id": null
     },
     "metadata": {},
     "output_type": "display_data"
    },
    {
     "data": {
      "text/latex": "$\\displaystyle \\psi$",
      "text/plain": [
       "<IPython.core.display.Math object>"
      ]
     },
     "jetTransient": {
      "display_id": null
     },
     "metadata": {},
     "output_type": "display_data"
    },
    {
     "data": {
      "text/latex": "$\\displaystyle \\psi$",
      "text/plain": [
       "<IPython.core.display.Math object>"
      ]
     },
     "jetTransient": {
      "display_id": null
     },
     "metadata": {},
     "output_type": "display_data"
    },
    {
     "data": {
      "text/latex": "$\\displaystyle \\omega$",
      "text/plain": [
       "<IPython.core.display.Math object>"
      ]
     },
     "jetTransient": {
      "display_id": null
     },
     "metadata": {},
     "output_type": "display_data"
    },
    {
     "data": {
      "text/latex": "$\\displaystyle \\omega$",
      "text/plain": [
       "<IPython.core.display.Math object>"
      ]
     },
     "jetTransient": {
      "display_id": null
     },
     "metadata": {},
     "output_type": "display_data"
    },
    {
     "data": {
      "text/latex": "$\\displaystyle Α$",
      "text/plain": [
       "<IPython.core.display.Math object>"
      ]
     },
     "jetTransient": {
      "display_id": null
     },
     "metadata": {},
     "output_type": "display_data"
    },
    {
     "data": {
      "text/latex": "$\\displaystyle Α$",
      "text/plain": [
       "<IPython.core.display.Math object>"
      ]
     },
     "jetTransient": {
      "display_id": null
     },
     "metadata": {},
     "output_type": "display_data"
    },
    {
     "data": {
      "text/latex": "$\\displaystyle Α$",
      "text/plain": [
       "<IPython.core.display.Math object>"
      ]
     },
     "jetTransient": {
      "display_id": null
     },
     "metadata": {},
     "output_type": "display_data"
    },
    {
     "data": {
      "text/latex": "$\\displaystyle Β$",
      "text/plain": [
       "<IPython.core.display.Math object>"
      ]
     },
     "jetTransient": {
      "display_id": null
     },
     "metadata": {},
     "output_type": "display_data"
    },
    {
     "data": {
      "text/latex": "$\\displaystyle Β$",
      "text/plain": [
       "<IPython.core.display.Math object>"
      ]
     },
     "jetTransient": {
      "display_id": null
     },
     "metadata": {},
     "output_type": "display_data"
    },
    {
     "data": {
      "text/latex": "$\\displaystyle Β$",
      "text/plain": [
       "<IPython.core.display.Math object>"
      ]
     },
     "jetTransient": {
      "display_id": null
     },
     "metadata": {},
     "output_type": "display_data"
    },
    {
     "data": {
      "text/latex": "$\\displaystyle \\Gamma$",
      "text/plain": [
       "<IPython.core.display.Math object>"
      ]
     },
     "jetTransient": {
      "display_id": null
     },
     "metadata": {},
     "output_type": "display_data"
    },
    {
     "data": {
      "text/latex": "$\\displaystyle \\Gamma$",
      "text/plain": [
       "<IPython.core.display.Math object>"
      ]
     },
     "jetTransient": {
      "display_id": null
     },
     "metadata": {},
     "output_type": "display_data"
    },
    {
     "data": {
      "text/latex": "$\\displaystyle \\Gamma$",
      "text/plain": [
       "<IPython.core.display.Math object>"
      ]
     },
     "jetTransient": {
      "display_id": null
     },
     "metadata": {},
     "output_type": "display_data"
    },
    {
     "data": {
      "text/latex": "$\\displaystyle \\Delta$",
      "text/plain": [
       "<IPython.core.display.Math object>"
      ]
     },
     "jetTransient": {
      "display_id": null
     },
     "metadata": {},
     "output_type": "display_data"
    },
    {
     "data": {
      "text/latex": "$\\displaystyle \\Delta$",
      "text/plain": [
       "<IPython.core.display.Math object>"
      ]
     },
     "jetTransient": {
      "display_id": null
     },
     "metadata": {},
     "output_type": "display_data"
    },
    {
     "data": {
      "text/latex": "$\\displaystyle \\Delta$",
      "text/plain": [
       "<IPython.core.display.Math object>"
      ]
     },
     "jetTransient": {
      "display_id": null
     },
     "metadata": {},
     "output_type": "display_data"
    },
    {
     "data": {
      "text/latex": "$\\displaystyle Ε$",
      "text/plain": [
       "<IPython.core.display.Math object>"
      ]
     },
     "jetTransient": {
      "display_id": null
     },
     "metadata": {},
     "output_type": "display_data"
    },
    {
     "data": {
      "text/latex": "$\\displaystyle Ε$",
      "text/plain": [
       "<IPython.core.display.Math object>"
      ]
     },
     "jetTransient": {
      "display_id": null
     },
     "metadata": {},
     "output_type": "display_data"
    },
    {
     "data": {
      "text/latex": "$\\displaystyle Ε$",
      "text/plain": [
       "<IPython.core.display.Math object>"
      ]
     },
     "jetTransient": {
      "display_id": null
     },
     "metadata": {},
     "output_type": "display_data"
    },
    {
     "data": {
      "text/latex": "$\\displaystyle Ζ$",
      "text/plain": [
       "<IPython.core.display.Math object>"
      ]
     },
     "jetTransient": {
      "display_id": null
     },
     "metadata": {},
     "output_type": "display_data"
    },
    {
     "data": {
      "text/latex": "$\\displaystyle Ζ$",
      "text/plain": [
       "<IPython.core.display.Math object>"
      ]
     },
     "jetTransient": {
      "display_id": null
     },
     "metadata": {},
     "output_type": "display_data"
    },
    {
     "data": {
      "text/latex": "$\\displaystyle Ζ$",
      "text/plain": [
       "<IPython.core.display.Math object>"
      ]
     },
     "jetTransient": {
      "display_id": null
     },
     "metadata": {},
     "output_type": "display_data"
    },
    {
     "data": {
      "text/latex": "$\\displaystyle Η$",
      "text/plain": [
       "<IPython.core.display.Math object>"
      ]
     },
     "jetTransient": {
      "display_id": null
     },
     "metadata": {},
     "output_type": "display_data"
    },
    {
     "data": {
      "text/latex": "$\\displaystyle Η$",
      "text/plain": [
       "<IPython.core.display.Math object>"
      ]
     },
     "jetTransient": {
      "display_id": null
     },
     "metadata": {},
     "output_type": "display_data"
    },
    {
     "data": {
      "text/latex": "$\\displaystyle Η$",
      "text/plain": [
       "<IPython.core.display.Math object>"
      ]
     },
     "jetTransient": {
      "display_id": null
     },
     "metadata": {},
     "output_type": "display_data"
    },
    {
     "data": {
      "text/latex": "$\\displaystyle \\Theta$",
      "text/plain": [
       "<IPython.core.display.Math object>"
      ]
     },
     "jetTransient": {
      "display_id": null
     },
     "metadata": {},
     "output_type": "display_data"
    },
    {
     "data": {
      "text/latex": "$\\displaystyle \\Theta$",
      "text/plain": [
       "<IPython.core.display.Math object>"
      ]
     },
     "jetTransient": {
      "display_id": null
     },
     "metadata": {},
     "output_type": "display_data"
    },
    {
     "data": {
      "text/latex": "$\\displaystyle \\Theta$",
      "text/plain": [
       "<IPython.core.display.Math object>"
      ]
     },
     "jetTransient": {
      "display_id": null
     },
     "metadata": {},
     "output_type": "display_data"
    },
    {
     "data": {
      "text/latex": "$\\displaystyle Ι$",
      "text/plain": [
       "<IPython.core.display.Math object>"
      ]
     },
     "jetTransient": {
      "display_id": null
     },
     "metadata": {},
     "output_type": "display_data"
    },
    {
     "data": {
      "text/latex": "$\\displaystyle Ι$",
      "text/plain": [
       "<IPython.core.display.Math object>"
      ]
     },
     "jetTransient": {
      "display_id": null
     },
     "metadata": {},
     "output_type": "display_data"
    },
    {
     "data": {
      "text/latex": "$\\displaystyle Ι$",
      "text/plain": [
       "<IPython.core.display.Math object>"
      ]
     },
     "jetTransient": {
      "display_id": null
     },
     "metadata": {},
     "output_type": "display_data"
    },
    {
     "data": {
      "text/latex": "$\\displaystyle Κ$",
      "text/plain": [
       "<IPython.core.display.Math object>"
      ]
     },
     "jetTransient": {
      "display_id": null
     },
     "metadata": {},
     "output_type": "display_data"
    },
    {
     "data": {
      "text/latex": "$\\displaystyle Κ$",
      "text/plain": [
       "<IPython.core.display.Math object>"
      ]
     },
     "jetTransient": {
      "display_id": null
     },
     "metadata": {},
     "output_type": "display_data"
    },
    {
     "data": {
      "text/latex": "$\\displaystyle Κ$",
      "text/plain": [
       "<IPython.core.display.Math object>"
      ]
     },
     "jetTransient": {
      "display_id": null
     },
     "metadata": {},
     "output_type": "display_data"
    },
    {
     "data": {
      "text/latex": "$\\displaystyle \\Lambda$",
      "text/plain": [
       "<IPython.core.display.Math object>"
      ]
     },
     "jetTransient": {
      "display_id": null
     },
     "metadata": {},
     "output_type": "display_data"
    },
    {
     "data": {
      "text/latex": "$\\displaystyle \\Lambda$",
      "text/plain": [
       "<IPython.core.display.Math object>"
      ]
     },
     "jetTransient": {
      "display_id": null
     },
     "metadata": {},
     "output_type": "display_data"
    },
    {
     "data": {
      "text/latex": "$\\displaystyle \\Lambda$",
      "text/plain": [
       "<IPython.core.display.Math object>"
      ]
     },
     "jetTransient": {
      "display_id": null
     },
     "metadata": {},
     "output_type": "display_data"
    },
    {
     "data": {
      "text/latex": "$\\displaystyle Μ$",
      "text/plain": [
       "<IPython.core.display.Math object>"
      ]
     },
     "jetTransient": {
      "display_id": null
     },
     "metadata": {},
     "output_type": "display_data"
    },
    {
     "data": {
      "text/latex": "$\\displaystyle Μ$",
      "text/plain": [
       "<IPython.core.display.Math object>"
      ]
     },
     "jetTransient": {
      "display_id": null
     },
     "metadata": {},
     "output_type": "display_data"
    },
    {
     "data": {
      "text/latex": "$\\displaystyle Μ$",
      "text/plain": [
       "<IPython.core.display.Math object>"
      ]
     },
     "jetTransient": {
      "display_id": null
     },
     "metadata": {},
     "output_type": "display_data"
    },
    {
     "data": {
      "text/latex": "$\\displaystyle Ν$",
      "text/plain": [
       "<IPython.core.display.Math object>"
      ]
     },
     "jetTransient": {
      "display_id": null
     },
     "metadata": {},
     "output_type": "display_data"
    },
    {
     "data": {
      "text/latex": "$\\displaystyle Ν$",
      "text/plain": [
       "<IPython.core.display.Math object>"
      ]
     },
     "jetTransient": {
      "display_id": null
     },
     "metadata": {},
     "output_type": "display_data"
    },
    {
     "data": {
      "text/latex": "$\\displaystyle Ν$",
      "text/plain": [
       "<IPython.core.display.Math object>"
      ]
     },
     "jetTransient": {
      "display_id": null
     },
     "metadata": {},
     "output_type": "display_data"
    },
    {
     "data": {
      "text/latex": "$\\displaystyle \\Xi$",
      "text/plain": [
       "<IPython.core.display.Math object>"
      ]
     },
     "jetTransient": {
      "display_id": null
     },
     "metadata": {},
     "output_type": "display_data"
    },
    {
     "data": {
      "text/latex": "$\\displaystyle \\Xi$",
      "text/plain": [
       "<IPython.core.display.Math object>"
      ]
     },
     "jetTransient": {
      "display_id": null
     },
     "metadata": {},
     "output_type": "display_data"
    },
    {
     "data": {
      "text/latex": "$\\displaystyle \\Xi$",
      "text/plain": [
       "<IPython.core.display.Math object>"
      ]
     },
     "jetTransient": {
      "display_id": null
     },
     "metadata": {},
     "output_type": "display_data"
    },
    {
     "data": {
      "text/latex": "$\\displaystyle Ο$",
      "text/plain": [
       "<IPython.core.display.Math object>"
      ]
     },
     "jetTransient": {
      "display_id": null
     },
     "metadata": {},
     "output_type": "display_data"
    },
    {
     "data": {
      "text/latex": "$\\displaystyle Ο$",
      "text/plain": [
       "<IPython.core.display.Math object>"
      ]
     },
     "jetTransient": {
      "display_id": null
     },
     "metadata": {},
     "output_type": "display_data"
    },
    {
     "data": {
      "text/latex": "$\\displaystyle Ο$",
      "text/plain": [
       "<IPython.core.display.Math object>"
      ]
     },
     "jetTransient": {
      "display_id": null
     },
     "metadata": {},
     "output_type": "display_data"
    },
    {
     "data": {
      "text/latex": "$\\displaystyle \\Pi$",
      "text/plain": [
       "<IPython.core.display.Math object>"
      ]
     },
     "jetTransient": {
      "display_id": null
     },
     "metadata": {},
     "output_type": "display_data"
    },
    {
     "data": {
      "text/latex": "$\\displaystyle \\Pi$",
      "text/plain": [
       "<IPython.core.display.Math object>"
      ]
     },
     "jetTransient": {
      "display_id": null
     },
     "metadata": {},
     "output_type": "display_data"
    },
    {
     "data": {
      "text/latex": "$\\displaystyle \\Pi$",
      "text/plain": [
       "<IPython.core.display.Math object>"
      ]
     },
     "jetTransient": {
      "display_id": null
     },
     "metadata": {},
     "output_type": "display_data"
    },
    {
     "data": {
      "text/latex": "$\\displaystyle Ρ$",
      "text/plain": [
       "<IPython.core.display.Math object>"
      ]
     },
     "jetTransient": {
      "display_id": null
     },
     "metadata": {},
     "output_type": "display_data"
    },
    {
     "data": {
      "text/latex": "$\\displaystyle Ρ$",
      "text/plain": [
       "<IPython.core.display.Math object>"
      ]
     },
     "jetTransient": {
      "display_id": null
     },
     "metadata": {},
     "output_type": "display_data"
    },
    {
     "data": {
      "text/latex": "$\\displaystyle Ρ$",
      "text/plain": [
       "<IPython.core.display.Math object>"
      ]
     },
     "jetTransient": {
      "display_id": null
     },
     "metadata": {},
     "output_type": "display_data"
    },
    {
     "data": {
      "text/latex": "$\\displaystyle \\Sigma$",
      "text/plain": [
       "<IPython.core.display.Math object>"
      ]
     },
     "jetTransient": {
      "display_id": null
     },
     "metadata": {},
     "output_type": "display_data"
    },
    {
     "data": {
      "text/latex": "$\\displaystyle \\Sigma$",
      "text/plain": [
       "<IPython.core.display.Math object>"
      ]
     },
     "jetTransient": {
      "display_id": null
     },
     "metadata": {},
     "output_type": "display_data"
    },
    {
     "data": {
      "text/latex": "$\\displaystyle \\Sigma$",
      "text/plain": [
       "<IPython.core.display.Math object>"
      ]
     },
     "jetTransient": {
      "display_id": null
     },
     "metadata": {},
     "output_type": "display_data"
    },
    {
     "data": {
      "text/latex": "$\\displaystyle Τ$",
      "text/plain": [
       "<IPython.core.display.Math object>"
      ]
     },
     "jetTransient": {
      "display_id": null
     },
     "metadata": {},
     "output_type": "display_data"
    },
    {
     "data": {
      "text/latex": "$\\displaystyle Τ$",
      "text/plain": [
       "<IPython.core.display.Math object>"
      ]
     },
     "jetTransient": {
      "display_id": null
     },
     "metadata": {},
     "output_type": "display_data"
    },
    {
     "data": {
      "text/latex": "$\\displaystyle Τ$",
      "text/plain": [
       "<IPython.core.display.Math object>"
      ]
     },
     "jetTransient": {
      "display_id": null
     },
     "metadata": {},
     "output_type": "display_data"
    },
    {
     "data": {
      "text/latex": "$\\displaystyle \\Upsilon$",
      "text/plain": [
       "<IPython.core.display.Math object>"
      ]
     },
     "jetTransient": {
      "display_id": null
     },
     "metadata": {},
     "output_type": "display_data"
    },
    {
     "data": {
      "text/latex": "$\\displaystyle \\Upsilon$",
      "text/plain": [
       "<IPython.core.display.Math object>"
      ]
     },
     "jetTransient": {
      "display_id": null
     },
     "metadata": {},
     "output_type": "display_data"
    },
    {
     "data": {
      "text/latex": "$\\displaystyle \\Upsilon$",
      "text/plain": [
       "<IPython.core.display.Math object>"
      ]
     },
     "jetTransient": {
      "display_id": null
     },
     "metadata": {},
     "output_type": "display_data"
    },
    {
     "data": {
      "text/latex": "$\\displaystyle \\Phi$",
      "text/plain": [
       "<IPython.core.display.Math object>"
      ]
     },
     "jetTransient": {
      "display_id": null
     },
     "metadata": {},
     "output_type": "display_data"
    },
    {
     "data": {
      "text/latex": "$\\displaystyle \\Phi$",
      "text/plain": [
       "<IPython.core.display.Math object>"
      ]
     },
     "jetTransient": {
      "display_id": null
     },
     "metadata": {},
     "output_type": "display_data"
    },
    {
     "data": {
      "text/latex": "$\\displaystyle \\Phi$",
      "text/plain": [
       "<IPython.core.display.Math object>"
      ]
     },
     "jetTransient": {
      "display_id": null
     },
     "metadata": {},
     "output_type": "display_data"
    },
    {
     "data": {
      "text/latex": "$\\displaystyle Χ$",
      "text/plain": [
       "<IPython.core.display.Math object>"
      ]
     },
     "jetTransient": {
      "display_id": null
     },
     "metadata": {},
     "output_type": "display_data"
    },
    {
     "data": {
      "text/latex": "$\\displaystyle Χ$",
      "text/plain": [
       "<IPython.core.display.Math object>"
      ]
     },
     "jetTransient": {
      "display_id": null
     },
     "metadata": {},
     "output_type": "display_data"
    },
    {
     "data": {
      "text/latex": "$\\displaystyle Χ$",
      "text/plain": [
       "<IPython.core.display.Math object>"
      ]
     },
     "jetTransient": {
      "display_id": null
     },
     "metadata": {},
     "output_type": "display_data"
    },
    {
     "data": {
      "text/latex": "$\\displaystyle \\Psi$",
      "text/plain": [
       "<IPython.core.display.Math object>"
      ]
     },
     "jetTransient": {
      "display_id": null
     },
     "metadata": {},
     "output_type": "display_data"
    },
    {
     "data": {
      "text/latex": "$\\displaystyle \\Psi$",
      "text/plain": [
       "<IPython.core.display.Math object>"
      ]
     },
     "jetTransient": {
      "display_id": null
     },
     "metadata": {},
     "output_type": "display_data"
    },
    {
     "data": {
      "text/latex": "$\\displaystyle \\Psi$",
      "text/plain": [
       "<IPython.core.display.Math object>"
      ]
     },
     "jetTransient": {
      "display_id": null
     },
     "metadata": {},
     "output_type": "display_data"
    },
    {
     "data": {
      "text/latex": "$\\displaystyle \\Omega$",
      "text/plain": [
       "<IPython.core.display.Math object>"
      ]
     },
     "jetTransient": {
      "display_id": null
     },
     "metadata": {},
     "output_type": "display_data"
    },
    {
     "data": {
      "text/latex": "$\\displaystyle \\Omega$",
      "text/plain": [
       "<IPython.core.display.Math object>"
      ]
     },
     "jetTransient": {
      "display_id": null
     },
     "metadata": {},
     "output_type": "display_data"
    },
    {
     "data": {
      "text/latex": "$\\displaystyle \\Omega$",
      "text/plain": [
       "<IPython.core.display.Math object>"
      ]
     },
     "jetTransient": {
      "display_id": null
     },
     "metadata": {},
     "output_type": "display_data"
    }
   ],
   "source": [
    "from IPython.display import Math, display  # noqa: A004\n",
    "\n",
    "for v in variables:\n",
    "    display(Math(v.latex_string))"
   ]
  },
  {
   "cell_type": "markdown",
   "id": "eafdb85c47c653e0",
   "metadata": {},
   "source": "# Test `None`"
  },
  {
   "cell_type": "code",
   "execution_count": 15,
   "id": "54a8278343b430d0",
   "metadata": {
    "ExecuteTime": {
     "end_time": "2025-09-01T07:58:37.197974Z",
     "start_time": "2025-09-01T07:58:37.192460Z"
    }
   },
   "outputs": [
    {
     "data": {
      "text/latex": "$\\text{None}$",
      "text/plain": [
       "None"
      ]
     },
     "execution_count": 15,
     "metadata": {},
     "output_type": "execute_result"
    }
   ],
   "source": [
    "val_none = Variable(None)\n",
    "val_none"
   ]
  },
  {
   "cell_type": "code",
   "execution_count": 16,
   "id": "c19a562a9a8c6534",
   "metadata": {
    "ExecuteTime": {
     "end_time": "2025-09-01T07:58:37.279832Z",
     "start_time": "2025-09-01T07:58:37.274511Z"
    }
   },
   "outputs": [
    {
     "data": {
      "text/latex": "$\\text{a} = \\text{None}$",
      "text/plain": [
       "a=None"
      ]
     },
     "execution_count": 16,
     "metadata": {},
     "output_type": "execute_result"
    }
   ],
   "source": [
    "val_none_2 = Variable(None, symbol=\"a\")\n",
    "val_none_2"
   ]
  },
  {
   "cell_type": "code",
   "execution_count": 17,
   "id": "8663400a422e41fd",
   "metadata": {
    "ExecuteTime": {
     "end_time": "2025-09-01T07:58:37.364900Z",
     "start_time": "2025-09-01T07:58:37.359016Z"
    }
   },
   "outputs": [
    {
     "data": {
      "text/plain": [
       "'a=None'"
      ]
     },
     "execution_count": 17,
     "metadata": {},
     "output_type": "execute_result"
    }
   ],
   "source": [
    "str(val_none_2)"
   ]
  },
  {
   "cell_type": "markdown",
   "id": "4f1ce9297bf35b63",
   "metadata": {},
   "source": [
    "# Test Compound Datatypes\n",
    "\n",
    "Test `list`, `dict`, `set`:"
   ]
  },
  {
   "cell_type": "code",
   "execution_count": 18,
   "id": "c0c880d53c30aae",
   "metadata": {
    "ExecuteTime": {
     "end_time": "2025-09-01T07:58:37.450865Z",
     "start_time": "2025-09-01T07:58:37.447049Z"
    }
   },
   "outputs": [],
   "source": [
    "vl = Variable([1, 2, 3])\n",
    "vd = Variable({\"a\": 1, \"b\": 2})\n",
    "vs = Variable({\"a\", \"b\", \"c\"})"
   ]
  },
  {
   "cell_type": "code",
   "execution_count": 19,
   "id": "6ef89410280cb6ce",
   "metadata": {
    "ExecuteTime": {
     "end_time": "2025-09-01T07:58:37.518949Z",
     "start_time": "2025-09-01T07:58:37.512790Z"
    }
   },
   "outputs": [
    {
     "data": {
      "text/plain": [
       "'[1, 2, 3]'"
      ]
     },
     "execution_count": 19,
     "metadata": {},
     "output_type": "execute_result"
    }
   ],
   "source": [
    "str(vl)"
   ]
  },
  {
   "cell_type": "code",
   "execution_count": 20,
   "id": "ec4cd21c5703eb5d",
   "metadata": {
    "ExecuteTime": {
     "end_time": "2025-09-01T07:58:37.604964Z",
     "start_time": "2025-09-01T07:58:37.600551Z"
    }
   },
   "outputs": [
    {
     "data": {
      "text/plain": [
       "'$\\\\left[1, 2, 3\\\\right]$'"
      ]
     },
     "execution_count": 20,
     "metadata": {},
     "output_type": "execute_result"
    }
   ],
   "source": [
    "vl.latex_string"
   ]
  },
  {
   "cell_type": "code",
   "execution_count": 21,
   "id": "d769761b6bf8f9df",
   "metadata": {
    "ExecuteTime": {
     "end_time": "2025-09-01T07:58:37.685095Z",
     "start_time": "2025-09-01T07:58:37.680657Z"
    }
   },
   "outputs": [
    {
     "data": {
      "text/latex": "$\\left[1, 2, 3\\right]$",
      "text/plain": [
       "[1, 2, 3]"
      ]
     },
     "execution_count": 21,
     "metadata": {},
     "output_type": "execute_result"
    }
   ],
   "source": [
    "vl"
   ]
  },
  {
   "cell_type": "code",
   "execution_count": 22,
   "id": "4e555544fb702028",
   "metadata": {
    "ExecuteTime": {
     "end_time": "2025-09-01T07:58:37.759413Z",
     "start_time": "2025-09-01T07:58:37.753076Z"
    }
   },
   "outputs": [
    {
     "data": {
      "text/plain": [
       "\"{'a': 1, 'b': 2}\""
      ]
     },
     "execution_count": 22,
     "metadata": {},
     "output_type": "execute_result"
    }
   ],
   "source": [
    "str(vd)"
   ]
  },
  {
   "cell_type": "code",
   "execution_count": 23,
   "id": "6feb7d243a32f796",
   "metadata": {
    "ExecuteTime": {
     "end_time": "2025-09-01T07:58:37.799828Z",
     "start_time": "2025-09-01T07:58:37.794802Z"
    }
   },
   "outputs": [
    {
     "data": {
      "text/plain": [
       "'$\\\\left\\\\{\\\\text{a}: 1, \\\\text{b}: 2\\\\right\\\\}$'"
      ]
     },
     "execution_count": 23,
     "metadata": {},
     "output_type": "execute_result"
    }
   ],
   "source": [
    "vd.latex_string"
   ]
  },
  {
   "cell_type": "code",
   "execution_count": 24,
   "id": "f7b5633cb6b07480",
   "metadata": {
    "ExecuteTime": {
     "end_time": "2025-09-01T07:58:37.954889Z",
     "start_time": "2025-09-01T07:58:37.949542Z"
    }
   },
   "outputs": [
    {
     "data": {
      "text/latex": "$\\left\\{\\text{a}: 1, \\text{b}: 2\\right\\}$",
      "text/plain": [
       "{'a': 1, 'b': 2}"
      ]
     },
     "execution_count": 24,
     "metadata": {},
     "output_type": "execute_result"
    }
   ],
   "source": [
    "vd"
   ]
  },
  {
   "cell_type": "code",
   "execution_count": 25,
   "id": "da202e4e61846cfd",
   "metadata": {
    "ExecuteTime": {
     "end_time": "2025-09-01T07:58:38.043667Z",
     "start_time": "2025-09-01T07:58:38.038116Z"
    }
   },
   "outputs": [
    {
     "data": {
      "text/plain": [
       "\"{'b', 'a', 'c'}\""
      ]
     },
     "execution_count": 25,
     "metadata": {},
     "output_type": "execute_result"
    }
   ],
   "source": [
    "str(vs)"
   ]
  },
  {
   "cell_type": "code",
   "execution_count": 26,
   "id": "715a26624c5d5a11",
   "metadata": {
    "ExecuteTime": {
     "end_time": "2025-09-01T07:58:38.185829Z",
     "start_time": "2025-09-01T07:58:38.179904Z"
    }
   },
   "outputs": [
    {
     "data": {
      "text/plain": [
       "'$\\\\left\\\\{\\\\text{b}, \\\\text{a}, \\\\text{c}\\\\right\\\\}$'"
      ]
     },
     "execution_count": 26,
     "metadata": {},
     "output_type": "execute_result"
    }
   ],
   "source": [
    "vs.latex_string"
   ]
  },
  {
   "cell_type": "code",
   "execution_count": 27,
   "id": "a372eae4bed51174",
   "metadata": {
    "ExecuteTime": {
     "end_time": "2025-09-01T07:58:38.250240Z",
     "start_time": "2025-09-01T07:58:38.244622Z"
    }
   },
   "outputs": [
    {
     "data": {
      "text/latex": "$\\left\\{\\text{b}, \\text{a}, \\text{c}\\right\\}$",
      "text/plain": [
       "{'b', 'a', 'c'}"
      ]
     },
     "execution_count": 27,
     "metadata": {},
     "output_type": "execute_result"
    }
   ],
   "source": [
    "vs"
   ]
  },
  {
   "cell_type": "markdown",
   "id": "8d889326a96c120c",
   "metadata": {},
   "source": "# Test Dataframes"
  },
  {
   "cell_type": "code",
   "execution_count": 28,
   "id": "fc1a7fca04556d12",
   "metadata": {
    "ExecuteTime": {
     "end_time": "2025-09-01T07:58:39.018120Z",
     "start_time": "2025-09-01T07:58:38.299616Z"
    }
   },
   "outputs": [],
   "source": [
    "import pandas as pd\n",
    "import polars as pl\n",
    "\n",
    "data = {\"a\": [1, 2, 3], \"b\": [\"a\", \"b\", \"c\"]}\n",
    "\n",
    "vpd = Variable(pd.DataFrame(data))\n",
    "vpl = Variable(pl.DataFrame(data))"
   ]
  },
  {
   "cell_type": "code",
   "execution_count": 29,
   "id": "fd53a9fa369a45e",
   "metadata": {
    "ExecuteTime": {
     "end_time": "2025-09-01T07:58:39.091250Z",
     "start_time": "2025-09-01T07:58:39.024537Z"
    }
   },
   "outputs": [
    {
     "data": {
      "text/html": [
       "<div>\n",
       "<style scoped>\n",
       "    .dataframe tbody tr th:only-of-type {\n",
       "        vertical-align: middle;\n",
       "    }\n",
       "\n",
       "    .dataframe tbody tr th {\n",
       "        vertical-align: top;\n",
       "    }\n",
       "\n",
       "    .dataframe thead th {\n",
       "        text-align: right;\n",
       "    }\n",
       "</style>\n",
       "<table border=\"1\" class=\"dataframe\">\n",
       "  <thead>\n",
       "    <tr style=\"text-align: right;\">\n",
       "      <th></th>\n",
       "      <th>a</th>\n",
       "      <th>b</th>\n",
       "    </tr>\n",
       "  </thead>\n",
       "  <tbody>\n",
       "    <tr>\n",
       "      <th>0</th>\n",
       "      <td>1</td>\n",
       "      <td>a</td>\n",
       "    </tr>\n",
       "    <tr>\n",
       "      <th>1</th>\n",
       "      <td>2</td>\n",
       "      <td>b</td>\n",
       "    </tr>\n",
       "    <tr>\n",
       "      <th>2</th>\n",
       "      <td>3</td>\n",
       "      <td>c</td>\n",
       "    </tr>\n",
       "  </tbody>\n",
       "</table>\n",
       "</div>"
      ],
      "text/latex": null,
      "text/plain": [
       "Variable(   a  b\n",
       "0  1  a\n",
       "1  2  b\n",
       "2  3  c, symbol=None, units=None, fmt_string=None)"
      ]
     },
     "execution_count": 29,
     "metadata": {},
     "output_type": "execute_result"
    }
   ],
   "source": [
    "vpd"
   ]
  },
  {
   "cell_type": "code",
   "execution_count": 30,
   "id": "3358f9ba8cda3191",
   "metadata": {
    "ExecuteTime": {
     "end_time": "2025-09-01T07:58:39.251089Z",
     "start_time": "2025-09-01T07:58:39.236358Z"
    }
   },
   "outputs": [
    {
     "data": {
      "text/html": [
       "<div><style>\n",
       ".dataframe > thead > tr,\n",
       ".dataframe > tbody > tr {\n",
       "  text-align: right;\n",
       "  white-space: pre-wrap;\n",
       "}\n",
       "</style>\n",
       "<small>shape: (3, 2)</small><table border=\"1\" class=\"dataframe\"><thead><tr><th>a</th><th>b</th></tr><tr><td>i64</td><td>str</td></tr></thead><tbody><tr><td>1</td><td>&quot;a&quot;</td></tr><tr><td>2</td><td>&quot;b&quot;</td></tr><tr><td>3</td><td>&quot;c&quot;</td></tr></tbody></table></div>"
      ],
      "text/plain": [
       "Variable(shape: (3, 2)\n",
       "┌─────┬─────┐\n",
       "│ a   ┆ b   │\n",
       "│ --- ┆ --- │\n",
       "│ i64 ┆ str │\n",
       "╞═════╪═════╡\n",
       "│ 1   ┆ a   │\n",
       "│ 2   ┆ b   │\n",
       "│ 3   ┆ c   │\n",
       "└─────┴─────┘, symbol=None, units=None, fmt_string=None)"
      ]
     },
     "execution_count": 30,
     "metadata": {},
     "output_type": "execute_result"
    }
   ],
   "source": [
    "vpl"
   ]
  },
  {
   "cell_type": "markdown",
   "id": "fc0cf51fefb93621",
   "metadata": {},
   "source": "# Test Sympy"
  },
  {
   "cell_type": "code",
   "execution_count": 31,
   "id": "24e04b8b9b6a0483",
   "metadata": {
    "ExecuteTime": {
     "end_time": "2025-09-01T07:58:40.184655Z",
     "start_time": "2025-09-01T07:58:39.563178Z"
    }
   },
   "outputs": [
    {
     "data": {
      "image/png": null,
      "image/svg+xml": null,
      "text/latex": "$\\displaystyle a + b$",
      "text/plain": [
       "Variable(a + b, symbol=None, units=None, fmt_string=None)"
      ]
     },
     "execution_count": 31,
     "metadata": {},
     "output_type": "execute_result"
    }
   ],
   "source": [
    "import sympy as sym\n",
    "\n",
    "a, b = sym.symbols(\"a, b\")\n",
    "eqn = a + b\n",
    "v_sym = Variable(eqn)\n",
    "v_sym"
   ]
  }
 ],
 "metadata": {
  "kernelspec": {
   "display_name": "Python 3",
   "language": "python",
   "name": "python3"
  },
  "language_info": {
   "codemirror_mode": {
    "name": "ipython",
    "version": 2
   },
   "file_extension": ".py",
   "mimetype": "text/x-python",
   "name": "python",
   "nbconvert_exporter": "python",
   "pygments_lexer": "ipython2",
   "version": "2.7.6"
  }
 },
 "nbformat": 4,
 "nbformat_minor": 5
}
