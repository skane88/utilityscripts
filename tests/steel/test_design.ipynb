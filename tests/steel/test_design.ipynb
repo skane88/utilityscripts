{
 "cells": [
  {
   "cell_type": "markdown",
   "id": "421c51a65d2d39bd",
   "metadata": {
    "collapsed": true
   },
   "source": "# Check the Steel Design Module"
  },
  {
   "cell_type": "code",
   "id": "4c3ce7afa7f42f87",
   "metadata": {
    "ExecuteTime": {
     "end_time": "2025-10-15T23:10:18.820614Z",
     "start_time": "2025-10-15T23:10:16.259346Z"
    }
   },
   "source": [
    "from utilityscripts.steel.design import AS4100, SteelMember, make_section, steel_grades\n",
    "\n",
    "g300 = steel_grades()[\"AS/NZS3679.1:300\"]\n",
    "_310UB40 = make_section(designation=\"310UB40.4\", grade=g300)\n",
    "length = 2.0\n",
    "member = SteelMember(section=_310UB40, length=length, restraints=None)\n",
    "design = AS4100(member=member)"
   ],
   "outputs": [],
   "execution_count": 1
  },
  {
   "metadata": {
    "ExecuteTime": {
     "end_time": "2025-10-15T23:10:18.833512Z",
     "start_time": "2025-10-15T23:10:18.827530Z"
    }
   },
   "cell_type": "code",
   "source": "design.n_ty()",
   "id": "91e84e64d74677c0",
   "outputs": [
    {
     "data": {
      "text/plain": [
       "N_ty=1667.50kN"
      ],
      "text/latex": "$N_{ty} = 1667.50\\text{kN}$"
     },
     "execution_count": 2,
     "metadata": {},
     "output_type": "execute_result"
    }
   ],
   "execution_count": 2
  },
  {
   "metadata": {
    "ExecuteTime": {
     "end_time": "2025-10-15T23:10:18.850461Z",
     "start_time": "2025-10-15T23:10:18.846268Z"
    }
   },
   "cell_type": "code",
   "source": "str(design.n_ty())",
   "id": "4eca79fd15b7b9ea",
   "outputs": [
    {
     "data": {
      "text/plain": [
       "'N_ty=1667.50kN'"
      ]
     },
     "execution_count": 3,
     "metadata": {},
     "output_type": "execute_result"
    }
   ],
   "execution_count": 3
  },
  {
   "cell_type": "code",
   "id": "36524fefff2628db",
   "metadata": {
    "ExecuteTime": {
     "end_time": "2025-10-15T23:10:18.863391Z",
     "start_time": "2025-10-15T23:10:18.859723Z"
    }
   },
   "source": [
    "design.phi_n_ty()"
   ],
   "outputs": [
    {
     "data": {
      "text/plain": [
       "φN_ty=1500.75kN"
      ],
      "text/latex": "$\\phi N_{ty} = 1500.75\\text{kN}$"
     },
     "execution_count": 4,
     "metadata": {},
     "output_type": "execute_result"
    }
   ],
   "execution_count": 4
  },
  {
   "cell_type": "code",
   "id": "79e136a1e0ca851a",
   "metadata": {
    "ExecuteTime": {
     "end_time": "2025-10-15T23:10:18.886047Z",
     "start_time": "2025-10-15T23:10:18.882033Z"
    }
   },
   "source": [
    "str(design.phi_n_ty())"
   ],
   "outputs": [
    {
     "data": {
      "text/plain": [
       "'φN_ty=1500.75kN'"
      ]
     },
     "execution_count": 5,
     "metadata": {},
     "output_type": "execute_result"
    }
   ],
   "execution_count": 5
  }
 ],
 "metadata": {
  "kernelspec": {
   "display_name": "Python 3",
   "language": "python",
   "name": "python3"
  },
  "language_info": {
   "codemirror_mode": {
    "name": "ipython",
    "version": 2
   },
   "file_extension": ".py",
   "mimetype": "text/x-python",
   "name": "python",
   "nbconvert_exporter": "python",
   "pygments_lexer": "ipython2",
   "version": "2.7.6"
  }
 },
 "nbformat": 4,
 "nbformat_minor": 5
}
