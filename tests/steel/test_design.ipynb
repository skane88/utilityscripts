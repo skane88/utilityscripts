{
 "cells": [
  {
   "cell_type": "markdown",
   "id": "421c51a65d2d39bd",
   "metadata": {
    "collapsed": true
   },
   "source": "# Check the Steel Design Module"
  },
  {
   "cell_type": "code",
   "id": "4c3ce7afa7f42f87",
   "metadata": {
    "ExecuteTime": {
     "end_time": "2025-10-22T07:38:17.863361Z",
     "start_time": "2025-10-22T07:38:13.464877Z"
    }
   },
   "source": [
    "from utilityscripts.steel.design import (\n",
    "    AS4100,\n",
    "    SteelMember,\n",
    "    UnitSystem_SI,\n",
    "    make_section,\n",
    "    steel_grades,\n",
    ")\n",
    "\n",
    "g300 = steel_grades()[\"AS/NZS3679.1:300\"]\n",
    "_310UB40 = make_section(designation=\"310UB40.4\", grade=g300)\n",
    "length = 2.0\n",
    "member = SteelMember(section=_310UB40, length=length, restraints=None)\n",
    "design = AS4100(member=member)"
   ],
   "outputs": [],
   "execution_count": 1
  },
  {
   "cell_type": "code",
   "id": "91e84e64d74677c0",
   "metadata": {
    "ExecuteTime": {
     "end_time": "2025-10-22T07:38:17.876830Z",
     "start_time": "2025-10-22T07:38:17.869935Z"
    }
   },
   "source": [
    "design.n_ty()"
   ],
   "outputs": [
    {
     "data": {
      "text/plain": [
       "N_ty=1667kN"
      ],
      "text/latex": "$N_{ty} = 1667\\text{kN}$"
     },
     "execution_count": 2,
     "metadata": {},
     "output_type": "execute_result"
    }
   ],
   "execution_count": 2
  },
  {
   "cell_type": "code",
   "id": "4eca79fd15b7b9ea",
   "metadata": {
    "ExecuteTime": {
     "end_time": "2025-10-22T07:38:17.891910Z",
     "start_time": "2025-10-22T07:38:17.887754Z"
    }
   },
   "source": [
    "str(design.n_ty())"
   ],
   "outputs": [
    {
     "data": {
      "text/plain": [
       "'N_ty=1667kN'"
      ]
     },
     "execution_count": 3,
     "metadata": {},
     "output_type": "execute_result"
    }
   ],
   "execution_count": 3
  },
  {
   "cell_type": "code",
   "id": "36524fefff2628db",
   "metadata": {
    "ExecuteTime": {
     "end_time": "2025-10-22T07:38:17.906350Z",
     "start_time": "2025-10-22T07:38:17.902594Z"
    }
   },
   "source": [
    "design.phi_n_ty()"
   ],
   "outputs": [
    {
     "data": {
      "text/plain": [
       "φN_ty=1501kN"
      ],
      "text/latex": "$\\phi N_{ty} = 1501\\text{kN}$"
     },
     "execution_count": 4,
     "metadata": {},
     "output_type": "execute_result"
    }
   ],
   "execution_count": 4
  },
  {
   "cell_type": "code",
   "id": "79e136a1e0ca851a",
   "metadata": {
    "ExecuteTime": {
     "end_time": "2025-10-22T07:38:17.935075Z",
     "start_time": "2025-10-22T07:38:17.931391Z"
    }
   },
   "source": [
    "str(design.phi_n_ty())"
   ],
   "outputs": [
    {
     "data": {
      "text/plain": [
       "'φN_ty=1501kN'"
      ]
     },
     "execution_count": 5,
     "metadata": {},
     "output_type": "execute_result"
    }
   ],
   "execution_count": 5
  },
  {
   "cell_type": "code",
   "id": "7347675e30c4afc1",
   "metadata": {
    "ExecuteTime": {
     "end_time": "2025-10-22T07:38:17.955979Z",
     "start_time": "2025-10-22T07:38:17.953687Z"
    }
   },
   "source": [
    "design = AS4100(member=member, unit_system=UnitSystem_SI)"
   ],
   "outputs": [],
   "execution_count": 6
  },
  {
   "cell_type": "code",
   "id": "6c337e8a85432c0a",
   "metadata": {
    "ExecuteTime": {
     "end_time": "2025-10-22T07:38:17.968836Z",
     "start_time": "2025-10-22T07:38:17.963991Z"
    }
   },
   "source": [
    "design.phi_n_ty()"
   ],
   "outputs": [
    {
     "data": {
      "text/plain": [
       "φN_ty=1.501e+06N"
      ],
      "text/latex": "$\\phi N_{ty} = 1.501 \\times 10^{6}\\text{N}$"
     },
     "execution_count": 7,
     "metadata": {},
     "output_type": "execute_result"
    }
   ],
   "execution_count": 7
  },
  {
   "cell_type": "code",
   "id": "1a41cf4eb0ce120d",
   "metadata": {
    "ExecuteTime": {
     "end_time": "2025-10-22T07:38:17.983130Z",
     "start_time": "2025-10-22T07:38:17.979047Z"
    }
   },
   "source": [
    "str(design.phi_n_ty())"
   ],
   "outputs": [
    {
     "data": {
      "text/plain": [
       "'φN_ty=1.501e+06N'"
      ]
     },
     "execution_count": 8,
     "metadata": {},
     "output_type": "execute_result"
    }
   ],
   "execution_count": 8
  }
 ],
 "metadata": {
  "kernelspec": {
   "display_name": "Python 3",
   "language": "python",
   "name": "python3"
  },
  "language_info": {
   "codemirror_mode": {
    "name": "ipython",
    "version": 2
   },
   "file_extension": ".py",
   "mimetype": "text/x-python",
   "name": "python",
   "nbconvert_exporter": "python",
   "pygments_lexer": "ipython2",
   "version": "2.7.6"
  }
 },
 "nbformat": 4,
 "nbformat_minor": 5
}
