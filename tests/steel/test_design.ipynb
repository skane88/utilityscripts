{
 "cells": [
  {
   "cell_type": "markdown",
   "id": "421c51a65d2d39bd",
   "metadata": {
    "collapsed": true
   },
   "source": "# Check the Steel Design Module"
  },
  {
   "cell_type": "code",
   "execution_count": 1,
   "id": "4c3ce7afa7f42f87",
   "metadata": {
    "ExecuteTime": {
     "end_time": "2025-10-30T11:36:15.228544Z",
     "start_time": "2025-10-30T11:36:13.677301Z"
    }
   },
   "outputs": [],
   "source": [
    "from utilityscripts.steel.design import (\n",
    "    AS4100,\n",
    "    SteelMember,\n",
    "    UnitSystem_SI,\n",
    "    make_section,\n",
    "    steel_grades,\n",
    ")\n",
    "\n",
    "g300 = steel_grades()[\"AS/NZS3679.1:300\"]\n",
    "_310UB40 = make_section(designation=\"310UB40.4\", grade=g300)\n",
    "length = 2.0\n",
    "member = SteelMember(section=_310UB40, length=length, restraints=None)\n",
    "design = AS4100(member=member)"
   ]
  },
  {
   "cell_type": "code",
   "execution_count": 2,
   "id": "91e84e64d74677c0",
   "metadata": {
    "ExecuteTime": {
     "end_time": "2025-10-30T11:36:15.248258Z",
     "start_time": "2025-10-30T11:36:15.238678Z"
    }
   },
   "outputs": [
    {
     "data": {
      "text/latex": "$N_{ty} = 1667\\text{kN}$",
      "text/plain": [
       "N_ty=1667kN"
      ]
     },
     "execution_count": 2,
     "metadata": {},
     "output_type": "execute_result"
    }
   ],
   "source": [
    "design.n_ty()"
   ]
  },
  {
   "cell_type": "code",
   "execution_count": 3,
   "id": "4eca79fd15b7b9ea",
   "metadata": {
    "ExecuteTime": {
     "end_time": "2025-10-30T11:36:15.272577Z",
     "start_time": "2025-10-30T11:36:15.267018Z"
    }
   },
   "outputs": [
    {
     "data": {
      "text/plain": [
       "'N_ty=1667kN'"
      ]
     },
     "execution_count": 3,
     "metadata": {},
     "output_type": "execute_result"
    }
   ],
   "source": [
    "str(design.n_ty())"
   ]
  },
  {
   "cell_type": "code",
   "execution_count": 4,
   "id": "36524fefff2628db",
   "metadata": {
    "ExecuteTime": {
     "end_time": "2025-10-30T11:36:15.297856Z",
     "start_time": "2025-10-30T11:36:15.292018Z"
    }
   },
   "outputs": [
    {
     "data": {
      "text/latex": "$\\phi N_{ty} = 1501\\text{kN}$",
      "text/plain": [
       "φN_ty=1501kN"
      ]
     },
     "execution_count": 4,
     "metadata": {},
     "output_type": "execute_result"
    }
   ],
   "source": [
    "design.phi_n_ty()"
   ]
  },
  {
   "cell_type": "code",
   "execution_count": 5,
   "id": "79e136a1e0ca851a",
   "metadata": {
    "ExecuteTime": {
     "end_time": "2025-10-30T11:36:15.344694Z",
     "start_time": "2025-10-30T11:36:15.339958Z"
    }
   },
   "outputs": [
    {
     "data": {
      "text/plain": [
       "'φN_ty=1501kN'"
      ]
     },
     "execution_count": 5,
     "metadata": {},
     "output_type": "execute_result"
    }
   ],
   "source": [
    "str(design.phi_n_ty())"
   ]
  },
  {
   "cell_type": "code",
   "execution_count": 6,
   "id": "67a909b43e547e8a",
   "metadata": {
    "ExecuteTime": {
     "end_time": "2025-10-30T11:36:15.395948Z",
     "start_time": "2025-10-30T11:36:15.389811Z"
    }
   },
   "outputs": [
    {
     "data": {
      "text/latex": "$N_{tu} = 1657\\text{kN}$",
      "text/plain": [
       "N_tu=1657kN"
      ]
     },
     "execution_count": 6,
     "metadata": {},
     "output_type": "execute_result"
    }
   ],
   "source": [
    "design.n_tu(k_t=0.85)"
   ]
  },
  {
   "cell_type": "code",
   "execution_count": 7,
   "id": "1cfdd77ff41b3ce",
   "metadata": {
    "ExecuteTime": {
     "end_time": "2025-10-30T11:36:15.419471Z",
     "start_time": "2025-10-30T11:36:15.414263Z"
    }
   },
   "outputs": [
    {
     "data": {
      "text/plain": [
       "'N_tu=1657kN'"
      ]
     },
     "execution_count": 7,
     "metadata": {},
     "output_type": "execute_result"
    }
   ],
   "source": [
    "str(design.n_tu(k_t=0.85))"
   ]
  },
  {
   "cell_type": "code",
   "execution_count": 8,
   "id": "4003616d5433036e",
   "metadata": {
    "ExecuteTime": {
     "end_time": "2025-10-30T11:36:15.442501Z",
     "start_time": "2025-10-30T11:36:15.437740Z"
    }
   },
   "outputs": [
    {
     "data": {
      "text/latex": "$\\phi N_{tu} = 1491\\text{kN}$",
      "text/plain": [
       "φN_tu=1491kN"
      ]
     },
     "execution_count": 8,
     "metadata": {},
     "output_type": "execute_result"
    }
   ],
   "source": [
    "design.phi_n_tu(k_t=0.85)"
   ]
  },
  {
   "cell_type": "code",
   "execution_count": 9,
   "id": "a8b273e57ea5d9ee",
   "metadata": {
    "ExecuteTime": {
     "end_time": "2025-10-30T11:36:15.468258Z",
     "start_time": "2025-10-30T11:36:15.462829Z"
    }
   },
   "outputs": [
    {
     "data": {
      "text/plain": [
       "'φN_tu=1491kN'"
      ]
     },
     "execution_count": 9,
     "metadata": {},
     "output_type": "execute_result"
    }
   ],
   "source": [
    "str(design.phi_n_tu(k_t=0.85))"
   ]
  },
  {
   "cell_type": "code",
   "execution_count": 10,
   "id": "7347675e30c4afc1",
   "metadata": {
    "ExecuteTime": {
     "end_time": "2025-10-30T11:36:15.505702Z",
     "start_time": "2025-10-30T11:36:15.501718Z"
    }
   },
   "outputs": [],
   "source": [
    "design = AS4100(member=member, unit_system=UnitSystem_SI)"
   ]
  },
  {
   "cell_type": "code",
   "execution_count": 11,
   "id": "6c337e8a85432c0a",
   "metadata": {
    "ExecuteTime": {
     "end_time": "2025-10-30T11:36:15.518856Z",
     "start_time": "2025-10-30T11:36:15.513249Z"
    }
   },
   "outputs": [
    {
     "data": {
      "text/latex": "$\\phi N_{ty} = 1.501 \\times 10^{6}\\text{N}$",
      "text/plain": [
       "φN_ty=1.501e+06N"
      ]
     },
     "execution_count": 11,
     "metadata": {},
     "output_type": "execute_result"
    }
   ],
   "source": [
    "design.phi_n_ty()"
   ]
  },
  {
   "cell_type": "code",
   "execution_count": 12,
   "id": "1a41cf4eb0ce120d",
   "metadata": {
    "ExecuteTime": {
     "end_time": "2025-10-30T11:36:15.544593Z",
     "start_time": "2025-10-30T11:36:15.537926Z"
    }
   },
   "outputs": [
    {
     "data": {
      "text/plain": [
       "'φN_ty=1.501e+06N'"
      ]
     },
     "execution_count": 12,
     "metadata": {},
     "output_type": "execute_result"
    }
   ],
   "source": [
    "str(design.phi_n_ty())"
   ]
  },
  {
   "cell_type": "code",
   "execution_count": 13,
   "id": "51356092ed0fb415",
   "metadata": {
    "ExecuteTime": {
     "end_time": "2025-10-30T11:36:15.569858Z",
     "start_time": "2025-10-30T11:36:15.562311Z"
    }
   },
   "outputs": [
    {
     "data": {
      "text/latex": "$\\phi N_{tu} = 1.491 \\times 10^{6}\\text{N}$",
      "text/plain": [
       "φN_tu=1.491e+06N"
      ]
     },
     "execution_count": 13,
     "metadata": {},
     "output_type": "execute_result"
    }
   ],
   "source": [
    "design.phi_n_tu(k_t=0.85)"
   ]
  },
  {
   "cell_type": "code",
   "execution_count": 14,
   "id": "91981e8b33a4293f",
   "metadata": {
    "ExecuteTime": {
     "end_time": "2025-10-30T11:36:15.628039Z",
     "start_time": "2025-10-30T11:36:15.622544Z"
    }
   },
   "outputs": [
    {
     "data": {
      "text/plain": [
       "'φN_tu=1.491e+06N'"
      ]
     },
     "execution_count": 14,
     "metadata": {},
     "output_type": "execute_result"
    }
   ],
   "source": [
    "str(design.phi_n_tu(k_t=0.85))"
   ]
  }
 ],
 "metadata": {
  "kernelspec": {
   "display_name": "Python 3",
   "language": "python",
   "name": "python3"
  },
  "language_info": {
   "codemirror_mode": {
    "name": "ipython",
    "version": 2
   },
   "file_extension": ".py",
   "mimetype": "text/x-python",
   "name": "python",
   "nbconvert_exporter": "python",
   "pygments_lexer": "ipython2",
   "version": "2.7.6"
  }
 },
 "nbformat": 4,
 "nbformat_minor": 5
}
